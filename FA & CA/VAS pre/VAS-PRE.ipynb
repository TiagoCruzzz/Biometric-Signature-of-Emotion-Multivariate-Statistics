{
 "cells": [
  {
   "cell_type": "markdown",
   "id": "3732aa10",
   "metadata": {},
   "source": [
    "## VAS-PRE"
   ]
  },
  {
   "cell_type": "code",
   "execution_count": 1,
   "id": "4cbf0cc1",
   "metadata": {},
   "outputs": [],
   "source": [
    "import pandas as pd\n",
    "import numpy as np\n",
    "import matplotlib.pyplot as plt\n",
    "import seaborn as sns"
   ]
  },
  {
   "cell_type": "markdown",
   "id": "0c7d9237",
   "metadata": {},
   "source": [
    "### Respostas Sessão 1:"
   ]
  },
  {
   "cell_type": "code",
   "execution_count": 23,
   "id": "e3985b26",
   "metadata": {},
   "outputs": [
    {
     "name": "stdout",
     "output_type": "stream",
     "text": [
      "(29, 7) \n",
      "\n",
      "  Código de participante   Ansiedade  Alegria  Medo  Stress  Arousal  Valence\n",
      "0                    C001        0.4      0.6   0.2     0.4        2        3\n",
      "1                    C002        0.1      0.5   0.0     0.2        3        2\n",
      "2                    C003        0.1      0.6   0.0     0.0        1        3\n",
      "3                    C004        0.4      0.3   0.0     0.4        0        0\n",
      "4                    C005        0.0      0.8   0.0     0.0        4        4 \n",
      "\n",
      "Index(['Código de participante ', 'Ansiedade', 'Alegria', 'Medo', 'Stress',\n",
      "       'Arousal', 'Valence'],\n",
      "      dtype='object') \n",
      "\n",
      "   Ansiedade  Alegria  Medo  Stress  Arousal  Valence\n",
      "0        0.4      0.6   0.2     0.4        2        3\n",
      "1        0.1      0.5   0.0     0.2        3        2\n",
      "2        0.1      0.6   0.0     0.0        1        3\n",
      "3        0.4      0.3   0.0     0.4        0        0\n",
      "4        0.0      0.8   0.0     0.0        4        4 \n",
      "\n",
      "   Ansiedade  Alegria  Medo  Stress\n",
      "0        0.4      0.6   0.2     0.4\n",
      "1        0.1      0.5   0.0     0.2\n",
      "2        0.1      0.6   0.0     0.0\n",
      "3        0.4      0.3   0.0     0.4\n",
      "4        0.0      0.8   0.0     0.0\n"
     ]
    }
   ],
   "source": [
    "df= pd.read_excel('VAS pre.xlsx', sheet_name = 'Respostas Sessão 1')\n",
    "print(df.shape,'\\n')\n",
    "print(df.head(),'\\n')\n",
    "print(df.columns,'\\n')\n",
    "df.drop(columns=['Código de participante '], inplace =True)\n",
    "print(df.head(),'\\n')\n",
    "df1 = df.iloc[:,0:4]\n",
    "print(df1.head())\n",
    "\n",
    "df1.to_csv('Vas_pre_s1.csv')"
   ]
  },
  {
   "cell_type": "markdown",
   "id": "72ea9b22",
   "metadata": {},
   "source": [
    "### Respostas sessão 2: "
   ]
  },
  {
   "cell_type": "code",
   "execution_count": 24,
   "id": "bc9d7256",
   "metadata": {},
   "outputs": [
    {
     "name": "stdout",
     "output_type": "stream",
     "text": [
      "(29, 7) \n",
      "\n",
      "  Código de participante   Ansiedade  Alegria  Medo  Stress  Arousal  Valence\n",
      "0                    C001        0.3      0.6   0.0     0.2        0        1\n",
      "1                    C002        0.1      0.5   0.0     0.3        1        3\n",
      "2                    C003        0.0      0.5   0.0     0.0        0        1\n",
      "3                    C004        0.1      0.4   0.1     0.1        0        1\n",
      "4                    C005        0.0      0.7   0.0     0.0        3        3 \n",
      "\n",
      "Index(['Código de participante ', 'Ansiedade', 'Alegria', 'Medo', 'Stress',\n",
      "       'Arousal', 'Valence'],\n",
      "      dtype='object') \n",
      "\n",
      "   Ansiedade  Alegria  Medo  Stress  Arousal  Valence\n",
      "0        0.3      0.6   0.0     0.2        0        1\n",
      "1        0.1      0.5   0.0     0.3        1        3\n",
      "2        0.0      0.5   0.0     0.0        0        1\n",
      "3        0.1      0.4   0.1     0.1        0        1\n",
      "4        0.0      0.7   0.0     0.0        3        3 \n",
      "\n",
      "   Ansiedade  Alegria  Medo  Stress\n",
      "0        0.3      0.6   0.0     0.2\n",
      "1        0.1      0.5   0.0     0.3\n",
      "2        0.0      0.5   0.0     0.0\n",
      "3        0.1      0.4   0.1     0.1\n",
      "4        0.0      0.7   0.0     0.0\n"
     ]
    }
   ],
   "source": [
    "df2= pd.read_excel('VAS pre.xlsx', sheet_name = 'Respostas Sessão 2')\n",
    "print(df2.shape,'\\n')\n",
    "print(df2.head(),'\\n')\n",
    "print(df2.columns,'\\n')\n",
    "df2.drop(columns=['Código de participante '], inplace =True)\n",
    "print(df2.head(),'\\n')\n",
    "df3 = df2.iloc[:,0:4]\n",
    "print(df3.head())\n",
    "\n",
    "df3.to_csv('Vas_pre_s2.csv')"
   ]
  },
  {
   "cell_type": "markdown",
   "id": "58c44f00",
   "metadata": {},
   "source": [
    "### Análise de variâncias dos scores "
   ]
  },
  {
   "cell_type": "code",
   "execution_count": 2,
   "id": "b1a31425",
   "metadata": {},
   "outputs": [
    {
     "name": "stdout",
     "output_type": "stream",
     "text": [
      "(35, 16) \n",
      "\n",
      "   Scores (máxima verosimilhança, varimax, vizinho mais afasado, distÂncia euclideana), Ansiedade, Alegria, Medo, Stress - Sessão 1  \\\n",
      "0                                           2.975034                                                                                  \n",
      "1                                                NaN                                                                                  \n",
      "2                                                NaN                                                                                  \n",
      "3                                                NaN                                                                                  \n",
      "4                                           0.762378                                                                                  \n",
      "\n",
      "   Scores (método da CP, varimax, vizinho mais afasado, distÂncia euclideana), Ansiedade, Alegria, Medo, Stress - Sessão 1  \\\n",
      "0                                           2.633453                                                                         \n",
      "1                                                NaN                                                                         \n",
      "2                                                NaN                                                                         \n",
      "3                                                NaN                                                                         \n",
      "4                                           0.738042                                                                         \n",
      "\n",
      "   Scores (método da máxima verosimilhança, varimax, vizinho mais afasado, distância euclideana),  Ansiedade, Medo, Stress - Sessão 1  \\\n",
      "0                                           2.046624                                                                                    \n",
      "1                                           1.233852                                                                                    \n",
      "2                                           1.077899                                                                                    \n",
      "3                                           2.935210                                                                                    \n",
      "4                                                NaN                                                                                    \n",
      "\n",
      "   Scores (método da CP, varimax, vizinho mais afasado, distÂncia euclideana), Ansiedade, Medo, Stress - Sessão 1  \\\n",
      "0                                           0.603692                                                                \n",
      "1                                           1.926750                                                                \n",
      "2                                           1.401788                                                                \n",
      "3                                           2.372914                                                                \n",
      "4                                                NaN                                                                \n",
      "\n",
      "   Scores (método da máxima verosimilhança, varimax, vizinho mais afasado, distância euclideana), Ansiedade, Alegria, Medo, Stress - Sessão 2  \\\n",
      "0                                           2.359106                                                                                            \n",
      "1                                           1.739558                                                                                            \n",
      "2                                           1.774906                                                                                            \n",
      "3                                           0.352035                                                                                            \n",
      "4                                           1.983745                                                                                            \n",
      "\n",
      "   Scores (método da CP, varimax, vizinho mais afasado, distância euclideana), Ansiedade, Alegria, Medo, Stress - Sessão 2  \\\n",
      "0                                           2.392956                                                                         \n",
      "1                                           1.618744                                                                         \n",
      "2                                           1.695224                                                                         \n",
      "3                                           0.760915                                                                         \n",
      "4                                           1.990262                                                                         \n",
      "\n",
      "   Scores (método da máxima verosimilhança, varimax, vizinho mais afasado, distância euclideana), Ansiedade, Medo, Stress - Sessão 2  \\\n",
      "0                                           2.366612                                                                                   \n",
      "1                                                NaN                                                                                   \n",
      "2                                                NaN                                                                                   \n",
      "3                                                NaN                                                                                   \n",
      "4                                           1.744767                                                                                   \n",
      "\n",
      "   Scores (método da CP, varimax, vizinho mais afasado, distância euclideana), Ansiedade, Medo, Stress - Sessão 2  \\\n",
      "0                                           0.886023                                                                \n",
      "1                                                NaN                                                                \n",
      "2                                                NaN                                                                \n",
      "3                                                NaN                                                                \n",
      "4                                           2.018628                                                                \n",
      "\n",
      "   Scores (máxima verosimilhança, varimax, vizinho mais afasado, distÂncia euclideana), Ansiedade, Alegria, Medo, Stress - Sessão 1.1  \\\n",
      "0                                           2.975034                                                                                    \n",
      "1                                                NaN                                                                                    \n",
      "2                                                NaN                                                                                    \n",
      "3                                                NaN                                                                                    \n",
      "4                                           0.762378                                                                                    \n",
      "\n",
      "   Scores (método da CP, varimax, vizinho mais afasado, distÂncia euclideana), Ansiedade, Alegria, Medo, Stress - Sessão 1.1  \\\n",
      "0                                           2.633453                                                                           \n",
      "1                                                NaN                                                                           \n",
      "2                                                NaN                                                                           \n",
      "3                                                NaN                                                                           \n",
      "4                                           0.738042                                                                           \n",
      "\n",
      "   Scores (método da máxima verosimilhança, varimax, vizinho mais afasado, distância euclideana),  Ansiedade, Medo, Stress - Sessão 1.1  \\\n",
      "0                                           2.046624                                                                                      \n",
      "1                                           1.233852                                                                                      \n",
      "2                                           1.077899                                                                                      \n",
      "3                                           2.935210                                                                                      \n",
      "4                                                NaN                                                                                      \n",
      "\n",
      "   Scores (método da CP, varimax, vizinho mais afasado, distÂncia euclideana), Ansiedade, Medo, Stress - Sessão 1.1  \\\n",
      "0                                           0.603692                                                                  \n",
      "1                                           1.926750                                                                  \n",
      "2                                           1.401788                                                                  \n",
      "3                                           2.372914                                                                  \n",
      "4                                                NaN                                                                  \n",
      "\n",
      "   Scores (método da máxima verosimilhança, varimax, vizinho mais afasado, distância euclideana), Ansiedade, Alegria, Medo, Stress - Sessão 2.1  \\\n",
      "0                                           2.359106                                                                                              \n",
      "1                                           1.739558                                                                                              \n",
      "2                                           1.774906                                                                                              \n",
      "3                                           0.352035                                                                                              \n",
      "4                                           1.983745                                                                                              \n",
      "\n",
      "   Scores (método da CP, varimax, vizinho mais afasado, distância euclideana), Ansiedade, Alegria, Medo, Stress - Sessão 2.1  \\\n",
      "0                                           2.392956                                                                           \n",
      "1                                           1.618744                                                                           \n",
      "2                                           1.695224                                                                           \n",
      "3                                           0.760915                                                                           \n",
      "4                                           1.990262                                                                           \n",
      "\n",
      "   Scores (método da máxima verosimilhança, varimax, vizinho mais afasado, distância euclideana), Ansiedade, Medo, Stress - Sessão 2.1  \\\n",
      "0                                           2.366612                                                                                     \n",
      "1                                           1.744767                                                                                     \n",
      "2                                           1.788181                                                                                     \n",
      "3                                           1.652600                                                                                     \n",
      "4                                           2.059341                                                                                     \n",
      "\n",
      "   Scores (método da CP, varimax, vizinho mais afasado, distância euclideana), Ansiedade, Medo, Stress - Sessão 2.1  \n",
      "0                                           0.886023                                                                 \n",
      "1                                           2.018628                                                                 \n",
      "2                                           1.817213                                                                 \n",
      "3                                           1.328019                                                                 \n",
      "4                                           2.795602                                                                  \n",
      "\n",
      "Index(['Scores (máxima verosimilhança, varimax, vizinho mais afasado, distÂncia euclideana), Ansiedade, Alegria, Medo, Stress - Sessão 1',\n",
      "       'Scores (método da CP, varimax, vizinho mais afasado, distÂncia euclideana), Ansiedade, Alegria, Medo, Stress - Sessão 1',\n",
      "       'Scores (método da máxima verosimilhança, varimax, vizinho mais afasado, distância euclideana),  Ansiedade, Medo, Stress - Sessão 1',\n",
      "       'Scores (método da CP, varimax, vizinho mais afasado, distÂncia euclideana), Ansiedade, Medo, Stress - Sessão 1',\n",
      "       'Scores (método da máxima verosimilhança, varimax, vizinho mais afasado, distância euclideana), Ansiedade, Alegria, Medo, Stress - Sessão 2',\n",
      "       'Scores (método da CP, varimax, vizinho mais afasado, distância euclideana), Ansiedade, Alegria, Medo, Stress - Sessão 2',\n",
      "       'Scores (método da máxima verosimilhança, varimax, vizinho mais afasado, distância euclideana), Ansiedade, Medo, Stress - Sessão 2',\n",
      "       'Scores (método da CP, varimax, vizinho mais afasado, distância euclideana), Ansiedade, Medo, Stress - Sessão 2',\n",
      "       'Scores (máxima verosimilhança, varimax, vizinho mais afasado, distÂncia euclideana), Ansiedade, Alegria, Medo, Stress - Sessão 1.1',\n",
      "       'Scores (método da CP, varimax, vizinho mais afasado, distÂncia euclideana), Ansiedade, Alegria, Medo, Stress - Sessão 1.1',\n",
      "       'Scores (método da máxima verosimilhança, varimax, vizinho mais afasado, distância euclideana),  Ansiedade, Medo, Stress - Sessão 1.1',\n",
      "       'Scores (método da CP, varimax, vizinho mais afasado, distÂncia euclideana), Ansiedade, Medo, Stress - Sessão 1.1',\n",
      "       'Scores (método da máxima verosimilhança, varimax, vizinho mais afasado, distância euclideana), Ansiedade, Alegria, Medo, Stress - Sessão 2.1',\n",
      "       'Scores (método da CP, varimax, vizinho mais afasado, distância euclideana), Ansiedade, Alegria, Medo, Stress - Sessão 2.1',\n",
      "       'Scores (método da máxima verosimilhança, varimax, vizinho mais afasado, distância euclideana), Ansiedade, Medo, Stress - Sessão 2.1',\n",
      "       'Scores (método da CP, varimax, vizinho mais afasado, distância euclideana), Ansiedade, Medo, Stress - Sessão 2.1'],\n",
      "      dtype='object') \n",
      "\n"
     ]
    },
    {
     "name": "stderr",
     "output_type": "stream",
     "text": [
      "C:\\Users\\tiago\\anaconda3\\lib\\site-packages\\openpyxl\\worksheet\\_reader.py:312: UserWarning: Unknown extension is not supported and will be removed\n",
      "  warn(msg)\n",
      "C:\\Users\\tiago\\anaconda3\\lib\\site-packages\\openpyxl\\worksheet\\_reader.py:312: UserWarning: Conditional Formatting extension is not supported and will be removed\n",
      "  warn(msg)\n"
     ]
    }
   ],
   "source": [
    "df= pd.read_excel('VAS pre - Sessão 1 - Agrupamentos_scores.xlsx')\n",
    "print(df.shape,'\\n')\n",
    "print(df.head(),'\\n')\n",
    "print(df.columns,'\\n')"
   ]
  },
  {
   "cell_type": "markdown",
   "id": "747278f3",
   "metadata": {},
   "source": [
    "### Avaliação sobre cada um dos 3 grupos: "
   ]
  },
  {
   "cell_type": "code",
   "execution_count": 29,
   "id": "0a2ff384",
   "metadata": {},
   "outputs": [
    {
     "name": "stdout",
     "output_type": "stream",
     "text": [
      "Média: 1.01\n",
      "Variância: 0.22\n",
      "Desvio Padrão: 0.47\n",
      "Média ± Desvio padrão = 1.01 ± 0.47\n",
      "\n",
      "Média: -0.64\n",
      "Variância: 0.2\n",
      "Desvio Padrão: 0.45\n",
      "Média ± Desvio padrão = -0.64 ± 0.45\n"
     ]
    },
    {
     "data": {
      "image/png": "[encoded data removed]",
      "text/plain": [
       "<Figure size 576x432 with 1 Axes>"
      ]
     },
     "metadata": {
      "needs_background": "light"
     },
     "output_type": "display_data"
    }
   ],
   "source": [
    "#Scores (máxima verosimilhança, varimax, vizinho mais afasado, distÂncia euclideana), Ansiedade, Alegria, Medo, Stress - Sessão 1\n",
    "\n",
    "# Grupo 1: Só um elemento (2.975033998)\n",
    "df1 = round(2.975033998,2)\n",
    "\n",
    "# Grupo 2: \n",
    "df2 = df.iloc[4:13,0]\n",
    "#print(df2)\n",
    "media = round(df2.mean(),2) #1.01\n",
    "variância = round(df2.var(),2) #0.22\n",
    "desvio_padrao = round(df2.std(),2) #0.47\n",
    "print('Média:',media)\n",
    "print('Variância:',variância)\n",
    "print('Desvio Padrão:',desvio_padrao)\n",
    "print('Média ± Desvio padrão = 1.01 ± 0.47')\n",
    "\n",
    "# Grupo 3: \n",
    "df3 = df.iloc[16:36,0]\n",
    "#print(df3)\n",
    "media = round(df3.mean(),2) #-0.64\n",
    "variância = round(df3.var(),2) #0.20\n",
    "desvio_padrao = round(df3.std(),2) #0.45\n",
    "print('\\nMédia:',media)\n",
    "print('Variância:',variância)\n",
    "print('Desvio Padrão:',desvio_padrao)\n",
    "print('Média ± Desvio padrão = -0.64 ± 0.45')\n",
    "\n",
    "import matplotlib.pyplot as plt\n",
    "\n",
    "data = [df1, df2, df3]\n",
    " \n",
    "fig = plt.figure(figsize =(8, 6))\n",
    " \n",
    "# Creating axes instance\n",
    "ax = fig.add_axes([0, 0, 1, 1])\n",
    " \n",
    "# Creating plot\n",
    "bp = ax.boxplot(data)\n",
    "\n",
    "# x-axis labels\n",
    "ax.set_xticklabels(['Group_1', 'Group_2','Group_3'])\n",
    " \n",
    "# Adding title\n",
    "plt.title(\"Box plot - VAS-pre Session 1\")\n",
    "\n",
    "# show plot\n",
    "plt.show()"
   ]
  },
  {
   "cell_type": "code",
   "execution_count": 31,
   "id": "1ba89c66",
   "metadata": {},
   "outputs": [
    {
     "name": "stdout",
     "output_type": "stream",
     "text": [
      "Média: 1.01\n",
      "Variância: 0.22\n",
      "Desvio Padrão: 0.47\n",
      "Média ± Desvio padrão = 1.01 ± 0.47\n",
      "\n",
      "Média: -0.62\n",
      "Variância: 0.16\n",
      "Desvio Padrão: 0.41\n",
      "Média ± Desvio padrão = -0.62 ± 0.41\n"
     ]
    },
    {
     "data": {
      "image/png": "[encoded data removed]",
      "text/plain": [
       "<Figure size 576x432 with 1 Axes>"
      ]
     },
     "metadata": {
      "needs_background": "light"
     },
     "output_type": "display_data"
    }
   ],
   "source": [
    "# Scores (método da CP, varimax, vizinho mais afasado, distÂncia euclideana), Ansiedade, Alegria, Medo, Stress - Sessão 1\n",
    "\n",
    "# Grupo 1: Só um elemento (2.63345318)\n",
    "df1= round(2.63345318,2)\n",
    "\n",
    "# Grupo 2: \n",
    "df2 = df.iloc[4:13,1]\n",
    "#print(df2)\n",
    "media = round(df2.mean(),2) #1.01\n",
    "variância = round(df2.var(),2) #0.22\n",
    "print('Média:',media)\n",
    "print('Variância:',variância)\n",
    "desvio_padrao = round(df2.std(),2) #0.47\n",
    "print('Desvio Padrão:',desvio_padrao)\n",
    "print('Média ± Desvio padrão = 1.01 ± 0.47')\n",
    "\n",
    "# Grupo 3: \n",
    "df3 = df.iloc[16:36,1]\n",
    "#print(df3)\n",
    "media = round(df3.mean(),2) #-0.62\n",
    "variância = round(df3.var(),2) #0.16\n",
    "desvio_padrao = round(df3.std(),2)#0.41\n",
    "print('\\nMédia:',media)\n",
    "print('Variância:',variância)\n",
    "print('Desvio Padrão:',desvio_padrao)\n",
    "print('Média ± Desvio padrão = -0.62 ± 0.41')\n",
    "\n",
    "\n",
    "data = [df1, df2, df3]\n",
    " \n",
    "fig = plt.figure(figsize =(8, 6))\n",
    " \n",
    "# Creating axes instance\n",
    "ax = fig.add_axes([0, 0, 1, 1])\n",
    " \n",
    "# Creating plot\n",
    "bp = ax.boxplot(data)\n",
    "\n",
    "# x-axis labels\n",
    "ax.set_xticklabels(['Group_1', 'Group_2','Group_3'])\n",
    " \n",
    "# Adding title\n",
    "plt.title(\"Box plot - VAS-pre Session 1\")\n",
    "\n",
    "# show plot\n",
    "plt.show()"
   ]
  },
  {
   "cell_type": "code",
   "execution_count": 32,
   "id": "b9d07eed",
   "metadata": {},
   "outputs": [
    {
     "name": "stdout",
     "output_type": "stream",
     "text": [
      "Média: 1.82\n",
      "Variância: 0.73\n",
      "Desvio Padrão: 0.85\n",
      "Média ± Desvio padrão = 1.82 ± 0.85\n",
      "\n",
      "Média: 0.64\n",
      "Variância: 0.16\n",
      "Desvio Padrão: 0.4\n",
      "Média ± Desvio padrão = 0.64 ± 0.40\n",
      "\n",
      "Média: -0.73\n",
      "Variância: 0.14\n",
      "Desvio Padrão: 0.37\n",
      "Média ± Desvio padrão = -0.73 ± 0.37\n"
     ]
    },
    {
     "data": {
      "image/png": "[encoded data removed]",
      "text/plain": [
       "<Figure size 576x432 with 1 Axes>"
      ]
     },
     "metadata": {
      "needs_background": "light"
     },
     "output_type": "display_data"
    }
   ],
   "source": [
    "# Scores (método da máxima verosimilhança, varimax, vizinho mais afasado, distância euclideana),  Ansiedade, Medo, Stress - Sessão 1\n",
    "\n",
    "# Grupo 1: \n",
    "df1 = df.iloc[0:4,2]\n",
    "#print(df1)\n",
    "media = round(df1.mean(),2) #1.82\n",
    "variância = round(df1.var(),2) #0.73\n",
    "desvio_padrao = round(df1.std(),2)#0.85\n",
    "print('Média:',media)\n",
    "print('Variância:',variância)\n",
    "print('Desvio Padrão:',desvio_padrao)\n",
    "print('Média ± Desvio padrão = 1.82 ± 0.85')\n",
    "\n",
    "# Grupo 2: \n",
    "df2 = df.iloc[7:15,2]\n",
    "#print(df1)\n",
    "media = round(df2.mean(),2) #0.64\n",
    "variância = round(df2.var(),2) #0.16\n",
    "desvio_padrao = round(df2.std(),2)# 0.40\n",
    "print('\\nMédia:',media)\n",
    "print('Variância:',variância)\n",
    "print('Desvio Padrão:',desvio_padrao)\n",
    "print('Média ± Desvio padrão = 0.64 ± 0.40')\n",
    "\n",
    "# Grupo 3: \n",
    "df3 = df.iloc[18:36,2]\n",
    "#print(df1)\n",
    "media = round(df3.mean(),2) #-0.73\n",
    "variância = round(df3.var(),2) #0.14\n",
    "desvio_padrao = round(df3.std(),2) #0.37\n",
    "print('\\nMédia:',media)\n",
    "print('Variância:',variância)\n",
    "print('Desvio Padrão:',desvio_padrao)\n",
    "print('Média ± Desvio padrão = -0.73 ± 0.37')\n",
    "\n",
    "\n",
    "data = [df1, df2, df3]\n",
    " \n",
    "fig = plt.figure(figsize =(8, 6))\n",
    " \n",
    "# Creating axes instance\n",
    "ax = fig.add_axes([0, 0, 1, 1])\n",
    " \n",
    "# Creating plot\n",
    "bp = ax.boxplot(data)\n",
    "\n",
    "# x-axis labels\n",
    "ax.set_xticklabels(['Group_1', 'Group_2','Group_3'])\n",
    " \n",
    "# Adding title\n",
    "plt.title(\"Box plot - VAS-pre Session 1\")\n",
    "\n",
    "# show plot\n",
    "plt.show()"
   ]
  },
  {
   "cell_type": "code",
   "execution_count": 33,
   "id": "393fc2b0",
   "metadata": {},
   "outputs": [
    {
     "name": "stdout",
     "output_type": "stream",
     "text": [
      "Média: 1.58\n",
      "Variância: 0.58\n",
      "Desvio Padrão: 0.76\n",
      "Média ± Desvio padrão = 1.58 ± 0.76\n",
      "\n",
      "Média: 0.47\n",
      "Variância: 0.65\n",
      "Desvio Padrão: 0.8\n",
      "Média ± Desvio padrão = 0.47 ± 0.80\n",
      "\n",
      "Média: -0.59\n",
      "Variância: 0.27\n",
      "Desvio Padrão: 0.52\n",
      "Média ± Desvio padrão = -0.59 ± 0.52\n"
     ]
    },
    {
     "data": {
      "image/png": "[encoded data removed]",
      "text/plain": [
       "<Figure size 576x432 with 1 Axes>"
      ]
     },
     "metadata": {
      "needs_background": "light"
     },
     "output_type": "display_data"
    }
   ],
   "source": [
    "# Scores (método da CP, varimax, vizinho mais afasado, distÂncia euclideana), Ansiedade, Medo, Stress - Sessão 1\n",
    "\n",
    "# Grupo 1: \n",
    "df1 = df.iloc[0:4,3]\n",
    "#print(df1)\n",
    "media = round(df1.mean(),2) #1.58\n",
    "variância = round(df1.var(),2) #0.58\n",
    "desvio_padrao = round(df1.std(),2) #0.76\n",
    "print('Média:',media)\n",
    "print('Variância:',variância)\n",
    "print('Desvio Padrão:',desvio_padrao)\n",
    "print('Média ± Desvio padrão = 1.58 ± 0.76')\n",
    "\n",
    "# Grupo 2: \n",
    "df2 = df.iloc[7:15,3]\n",
    "#print(df2)\n",
    "media = round(df2.mean(),2) #0.47\n",
    "variância = round(df2.var(),2) #0.65\n",
    "desvio_padrao = round(df2.std(),2) #0.80\n",
    "print('\\nMédia:',media)\n",
    "print('Variância:',variância)\n",
    "print('Desvio Padrão:',desvio_padrao)\n",
    "print('Média ± Desvio padrão = 0.47 ± 0.80')\n",
    "\n",
    "# Grupo 3: \n",
    "df3 = df.iloc[18:36,3]\n",
    "#print(df3)\n",
    "media = round(df3.mean(),2) #-0.59\n",
    "variância = round(df3.var(),2) #0.27\n",
    "desvio_padrao = round(df3.std(),2) #0.52\n",
    "print('\\nMédia:',media)\n",
    "print('Variância:',variância)\n",
    "print('Desvio Padrão:',desvio_padrao)\n",
    "print('Média ± Desvio padrão = -0.59 ± 0.52')\n",
    "\n",
    "\n",
    "data = [df1, df2, df3]\n",
    " \n",
    "fig = plt.figure(figsize =(8, 6))\n",
    " \n",
    "# Creating axes instance\n",
    "ax = fig.add_axes([0, 0, 1, 1])\n",
    " \n",
    "# Creating plot\n",
    "bp = ax.boxplot(data)\n",
    "\n",
    "# x-axis labels\n",
    "ax.set_xticklabels(['Group_1', 'Group_2','Group_3'])\n",
    " \n",
    "# Adding title\n",
    "plt.title(\"Box plot - VAS-pre Session 1\")\n",
    "\n",
    "# show plot\n",
    "plt.show()"
   ]
  },
  {
   "cell_type": "code",
   "execution_count": 34,
   "id": "bbb8812b",
   "metadata": {},
   "outputs": [
    {
     "name": "stdout",
     "output_type": "stream",
     "text": [
      "Média: 1.64\n",
      "Variância: 0.58\n",
      "Desvio Padrão: 0.76\n",
      "Média ± Desvio padrão = 1.64 ± 0.76\n",
      "\n",
      "Média: 0.38\n",
      "Variância: 0.48\n",
      "Desvio Padrão: 0.69\n",
      "Média ± Desvio padrão = 0.50 ± 0.69\n",
      "\n",
      "Média: -0.71\n",
      "Variância: 0.14\n",
      "Desvio Padrão: 0.37\n",
      "Média ± Desvio padrão = -0.71 ± 0.37\n"
     ]
    },
    {
     "data": {
      "image/png": "[encoded data removed]",
      "text/plain": [
       "<Figure size 576x432 with 1 Axes>"
      ]
     },
     "metadata": {
      "needs_background": "light"
     },
     "output_type": "display_data"
    }
   ],
   "source": [
    "# Scores (método da máxima verosimilhança, varimax, vizinho mais afasado, distância euclideana), Ansiedade, Alegria, Medo, Stress - Sessão 2\n",
    "\n",
    "# Grupo 1: \n",
    "df1 = df.iloc[0:5,4]\n",
    "#print(df1)\n",
    "media = round(df1.mean(),2) #1.64\n",
    "variância = round(df1.var(),2) #0.58\n",
    "desvio_padrao = round(df1.std(),2) #0.76\n",
    "print('Média:',media)\n",
    "print('Variância:',variância)\n",
    "print('Desvio Padrão:',desvio_padrao)\n",
    "print('Média ± Desvio padrão = 1.64 ± 0.76')\n",
    "\n",
    "# Grupo 2: \n",
    "df2 = df.iloc[8:16,4]\n",
    "#print(df2)\n",
    "media = round(df2.mean(),2) #0.50\n",
    "variância = round(df2.var(),2) #0.44\n",
    "desvio_padrao = round(df2.std(),2)# 0.69\n",
    "print('\\nMédia:',media)\n",
    "print('Variância:',variância)\n",
    "print('Desvio Padrão:',desvio_padrao)\n",
    "print('Média ± Desvio padrão = 0.50 ± 0.69')\n",
    "\n",
    "# Grupo 3: \n",
    "df3 = df.iloc[19:36,4]\n",
    "#print(df3)\n",
    "media = round(df3.mean(),2) #-0.71\n",
    "variância = round(df3.var(),2) #0.14\n",
    "desvio_padrao = round(df3.std(),2) #0.37\n",
    "print('\\nMédia:',media)\n",
    "print('Variância:',variância)\n",
    "print('Desvio Padrão:',desvio_padrao)\n",
    "print('Média ± Desvio padrão = -0.71 ± 0.37')\n",
    "\n",
    "\n",
    "data = [df1, df2, df3]\n",
    " \n",
    "fig = plt.figure(figsize =(8, 6))\n",
    " \n",
    "# Creating axes instance\n",
    "ax = fig.add_axes([0, 0, 1, 1])\n",
    " \n",
    "# Creating plot\n",
    "bp = ax.boxplot(data)\n",
    "\n",
    "# x-axis labels\n",
    "ax.set_xticklabels(['Group_1', 'Group_2','Group_3'])\n",
    " \n",
    "# Adding title\n",
    "plt.title(\"Box plot - VAS-pre Session 2\")\n",
    "\n",
    "# show plot\n",
    "plt.show()"
   ]
  },
  {
   "cell_type": "code",
   "execution_count": 3,
   "id": "11caf312",
   "metadata": {},
   "outputs": [
    {
     "name": "stdout",
     "output_type": "stream",
     "text": [
      "Média: 1.69\n",
      "Variância: 0.36\n",
      "Desvio Padrão: 0.6\n",
      "Média ± Desvio padrão = 1.69 ± 0.60\n",
      "\n",
      "Média: 0.28\n",
      "Variância: 0.43\n",
      "Desvio Padrão: 0.66\n",
      "Média ± Desvio padrão = 0.28 ± 0.66\n",
      "\n",
      "Média: -0.67\n",
      "Variância: 0.14\n",
      "Desvio Padrão: 0.38\n",
      "Média ± Desvio padrão = -0.67 ± 0.38\n"
     ]
    },
    {
     "data": {
      "image/png": "[encoded data removed]",
      "text/plain": [
       "<Figure size 576x432 with 1 Axes>"
      ]
     },
     "metadata": {
      "needs_background": "light"
     },
     "output_type": "display_data"
    }
   ],
   "source": [
    "# Scores (método da CP, varimax, vizinho mais afasado, distância euclideana), Ansiedade, Alegria, Medo, Stress - Sessão 2\n",
    "\n",
    "# Grupo 1: \n",
    "df1 = df.iloc[0:5,5]\n",
    "#print(df1)\n",
    "media = round(df1.mean(),2) #1.69\n",
    "variância = round(df1.var(),2) #0.36\n",
    "desvio_padrao = round(df1.std(),2) #0.60\n",
    "print('Média:',media)\n",
    "print('Variância:',variância)\n",
    "print('Desvio Padrão:',desvio_padrao)\n",
    "print('Média ± Desvio padrão = 1.69 ± 0.60')\n",
    "\n",
    "# Grupo 2: \n",
    "df2 = df.iloc[8:16,5]\n",
    "#print(df2)\n",
    "media = round(df2.mean(),2) #0.28\n",
    "variância = round(df2.var(),2) #0.43\n",
    "desvio_padrao = round(df2.std(),2) #0.66\n",
    "print('\\nMédia:',media)\n",
    "print('Variância:',variância)\n",
    "print('Desvio Padrão:',desvio_padrao)\n",
    "print('Média ± Desvio padrão = 0.28 ± 0.66')\n",
    "\n",
    "# Grupo 3: \n",
    "df3 = df.iloc[19:36,5]\n",
    "#print(df3)\n",
    "media = round(df3.mean(),2) #-0.67\n",
    "variância = round(df3.var(),2) #0.14\n",
    "desvio_padrao = round(df3.std(),2) #0.38\n",
    "print('\\nMédia:',media)\n",
    "print('Variância:',variância)\n",
    "print('Desvio Padrão:',desvio_padrao)\n",
    "print('Média ± Desvio padrão = -0.67 ± 0.38')\n",
    "\n",
    "data = [df1, df2, df3]\n",
    " \n",
    "fig = plt.figure(figsize =(8, 6))\n",
    " \n",
    "# Creating axes instance\n",
    "ax = fig.add_axes([0, 0, 1, 1])\n",
    " \n",
    "# Creating plot\n",
    "bp = ax.boxplot(data)\n",
    "\n",
    "# x-axis labels\n",
    "ax.set_xticklabels(['Group_1', 'Group_2','Group_3'])\n",
    " \n",
    "# Adding title\n",
    "plt.title(\"Box plot - VAS-pre Session 2\")\n",
    "\n",
    "# show plot\n",
    "plt.show()"
   ]
  },
  {
   "cell_type": "code",
   "execution_count": 4,
   "id": "9884d337",
   "metadata": {},
   "outputs": [
    {
     "name": "stdout",
     "output_type": "stream",
     "text": [
      "\n",
      "Média: 1.81\n",
      "Variância: 0.03\n",
      "Desvio Padrão: 0.17\n",
      "Média ± Desvio padrão = 1.81 ± 0.17\n",
      "\n",
      "Média: -0.4\n",
      "Variância: 0.35\n",
      "Desvio Padrão: 0.59\n",
      "Média ± Desvio padrão = -0.40 ± 0.59\n"
     ]
    },
    {
     "data": {
      "image/png": "[encoded data removed]",
      "text/plain": [
       "<Figure size 576x432 with 1 Axes>"
      ]
     },
     "metadata": {
      "needs_background": "light"
     },
     "output_type": "display_data"
    }
   ],
   "source": [
    "# Scores (método da máxima verosimilhança, varimax, vizinho mais afasado, distância euclideana), Ansiedade, Medo, Stress - Sessão 2\n",
    "\n",
    "# Grupo 1: Só tem um elemento (2.36661199)\n",
    "df1 = round(2.36661199,2)\n",
    "# Grupo 2: \n",
    "df2 = df.iloc[4:8,6]\n",
    "#print(df1)\n",
    "media = round(df2.mean(),2) #1.81\n",
    "variância = round(df2.var(),2) #0.03\n",
    "desvio_padrao = round(df2.std(),2) #0.17\n",
    "print('\\nMédia:',media)\n",
    "print('Variância:',variância)\n",
    "print('Desvio Padrão:',desvio_padrao)\n",
    "print('Média ± Desvio padrão = 1.81 ± 0.17')\n",
    "\n",
    "# Grupo 3: \n",
    "df3 = df.iloc[11:36,6]\n",
    "#print(df1)\n",
    "media = round(df3.mean(),2) #-0.40\n",
    "variância = round(df3.var(),2) #0.14\n",
    "desvio_padrao = round(df3.std(),2) #0.59\n",
    "print('\\nMédia:',media)\n",
    "print('Variância:',variância)\n",
    "print('Desvio Padrão:',desvio_padrao)\n",
    "print('Média ± Desvio padrão = -0.40 ± 0.59')\n",
    "\n",
    "data = [df1, df2, df3]\n",
    " \n",
    "fig = plt.figure(figsize =(8, 6))\n",
    " \n",
    "# Creating axes instance\n",
    "ax = fig.add_axes([0, 0, 1, 1])\n",
    " \n",
    "# Creating plot\n",
    "bp = ax.boxplot(data)\n",
    "\n",
    "# x-axis labels\n",
    "ax.set_xticklabels(['Group_1', 'Group_2','Group_3'])\n",
    " \n",
    "# Adding title\n",
    "plt.title(\"Box plot - VAS-pre Session 2\")\n",
    "\n",
    "# show plot\n",
    "plt.show()"
   ]
  },
  {
   "cell_type": "code",
   "execution_count": 5,
   "id": "0a473b29",
   "metadata": {},
   "outputs": [
    {
     "name": "stdout",
     "output_type": "stream",
     "text": [
      "\n",
      "Média: 1.99\n",
      "Variância: 0.37\n",
      "Desvio Padrão: 0.61\n",
      "Média ± Desvio padrão = 1.81 ± 0.61\n",
      "\n",
      "Média: -0.37\n",
      "Variância: 0.3\n",
      "Desvio Padrão: 0.55\n",
      "Média ± Desvio padrão = -0.37 ± 0.55\n"
     ]
    },
    {
     "data": {
      "image/png": "[encoded data removed]",
      "text/plain": [
       "<Figure size 576x432 with 1 Axes>"
      ]
     },
     "metadata": {
      "needs_background": "light"
     },
     "output_type": "display_data"
    }
   ],
   "source": [
    "# Scores (método da CP, varimax, vizinho mais afasado, distância euclideana), Ansiedade, Medo, Stress - Sessão 2\n",
    "\n",
    "# Grupo 1: Só tem um elemento (0.88602275)\n",
    "df1 = round(0.88602275,2)\n",
    "# Grupo 2: \n",
    "df2 = df.iloc[4:8,7]\n",
    "#print(df1)\n",
    "media = round(df2.mean(),2) #1.99\n",
    "variância = round(df2.var(),2) #0.37\n",
    "desvio_padrao = round(df2.std(),2) #0.61\n",
    "print('\\nMédia:',media)\n",
    "print('Variância:',variância)\n",
    "print('Desvio Padrão:',desvio_padrao)\n",
    "print('Média ± Desvio padrão = 1.81 ± 0.61')\n",
    "\n",
    "# Grupo 3: \n",
    "df3 = df.iloc[11:36,7]\n",
    "#print(df1)\n",
    "media = round(df3.mean(),2) #-0.37\n",
    "variância = round(df3.var(),2) #0.30\n",
    "desvio_padrao = round(df3.std(),2) #0.55\n",
    "print('\\nMédia:',media)\n",
    "print('Variância:',variância)\n",
    "print('Desvio Padrão:',desvio_padrao)\n",
    "print('Média ± Desvio padrão = -0.37 ± 0.55')\n",
    "\n",
    "data = [df1, df2, df3]\n",
    " \n",
    "fig = plt.figure(figsize =(8, 6))\n",
    " \n",
    "# Creating axes instance\n",
    "ax = fig.add_axes([0, 0, 1, 1])\n",
    " \n",
    "# Creating plot\n",
    "bp = ax.boxplot(data)\n",
    "\n",
    "# x-axis labels\n",
    "ax.set_xticklabels(['Group_1', 'Group_2','Group_3'])\n",
    " \n",
    "# Adding title\n",
    "plt.title(\"Box plot - VAS-pre Session 2\")\n",
    "\n",
    "# show plot\n",
    "plt.show()"
   ]
  },
  {
   "cell_type": "markdown",
   "id": "a7dff7b7",
   "metadata": {},
   "source": [
    "### Avaliação sobre cada um dos dois grupos"
   ]
  },
  {
   "cell_type": "code",
   "execution_count": 6,
   "id": "2d6e3cfc",
   "metadata": {},
   "outputs": [
    {
     "name": "stdout",
     "output_type": "stream",
     "text": [
      "\n",
      "Média: -0.11\n",
      "Variância: 0.82\n",
      "Desvio Padrão: 0.9\n",
      "Média ± Desvio padrão = -0.11 ± 0.90\n"
     ]
    },
    {
     "data": {
      "image/png": "[encoded data removed]",
      "text/plain": [
       "<Figure size 576x432 with 1 Axes>"
      ]
     },
     "metadata": {
      "needs_background": "light"
     },
     "output_type": "display_data"
    }
   ],
   "source": [
    "#Scores (máxima verosimilhança, varimax, vizinho mais afasado, distÂncia euclideana), Ansiedade, Alegria, Medo, Stress - Sessão 1\n",
    "\n",
    "# Grupo 1: Só tem um elemento (2.975033998)\n",
    "df1 = round(2.97503,2)\n",
    "# Grupo 2: \n",
    "df2 = df.iloc[4:32,8]\n",
    "#print(df2)\n",
    "media = round(df2.mean(),2) #-0.11\n",
    "variância = round(df2.var(),2) #0.82\n",
    "desvio_padrao = round(df2.std(),2) #0.90\n",
    "print('\\nMédia:',media)\n",
    "print('Variância:',variância)\n",
    "print('Desvio Padrão:',desvio_padrao)\n",
    "print('Média ± Desvio padrão = -0.11 ± 0.90')\n",
    "\n",
    "data = [df1, df2]\n",
    " \n",
    "fig = plt.figure(figsize =(8, 6))\n",
    "\n",
    "# Creating axes instance\n",
    "ax = fig.add_axes([0, 0, 1, 1])\n",
    " \n",
    "# Creating plot\n",
    "bp = ax.boxplot(data)\n",
    "\n",
    "# x-axis labels\n",
    "ax.set_xticklabels(['Group_1', 'Group_2'])\n",
    " \n",
    "# Adding title\n",
    "plt.title(\"Box plot - VAS-pre Session 1\")\n",
    "\n",
    "# show plot\n",
    "plt.show()"
   ]
  },
  {
   "cell_type": "code",
   "execution_count": 23,
   "id": "56dcbff9",
   "metadata": {},
   "outputs": [
    {
     "name": "stdout",
     "output_type": "stream",
     "text": [
      "\n",
      "Média: -0.09\n",
      "Variância: 0.77\n",
      "Desvio Padrão: 0.88\n",
      "Média ± Desvio padrão = -0.09 ± 0.88\n"
     ]
    },
    {
     "data": {
      "image/png": "[encoded data removed]",
      "text/plain": [
       "<Figure size 576x432 with 1 Axes>"
      ]
     },
     "metadata": {
      "needs_background": "light"
     },
     "output_type": "display_data"
    }
   ],
   "source": [
    "#Scores (método da CP, varimax, vizinho mais afasado, distÂncia euclideana), Ansiedade, Alegria, Medo, Stress - Sessão 1\n",
    "\n",
    "# Grupo 1: Só tem um elemento (2.63345318)\n",
    "df1 = round(2.63345,2)\n",
    "# Grupo 2: \n",
    "df2 = df.iloc[4:32,9]\n",
    "#print(df1)\n",
    "media = round(df2.mean(),2) #-0.09\n",
    "variância = round(df2.var(),2) #0.77\n",
    "desvio_padrao = round(df2.std(),2) #0.88\n",
    "print('\\nMédia:',media)\n",
    "print('Variância:',variância)\n",
    "print('Desvio Padrão:',desvio_padrao)\n",
    "print('Média ± Desvio padrão = -0.09 ± 0.88')\n",
    "\n",
    "data = [df1, df2]\n",
    " \n",
    "fig = plt.figure(figsize =(8, 6))\n",
    " \n",
    "# Creating axes instance\n",
    "ax = fig.add_axes([0, 0, 1, 1])\n",
    " \n",
    "# Creating plot\n",
    "bp = ax.boxplot(data)\n",
    "\n",
    "# x-axis labels\n",
    "ax.set_xticklabels(['Group_1', 'Group_2'])\n",
    " \n",
    "# Adding title\n",
    "plt.title(\"Box plot - VAS-pre Session 1\")\n",
    "\n",
    "# show plot\n",
    "plt.show()"
   ]
  },
  {
   "cell_type": "code",
   "execution_count": 7,
   "id": "92a5ae21",
   "metadata": {},
   "outputs": [
    {
     "name": "stdout",
     "output_type": "stream",
     "text": [
      "\n",
      "Média: 1.82\n",
      "Variância: 0.73\n",
      "Desvio Padrão: 0.85\n",
      "Média ± Desvio padrão = 1.82 ± 0.85\n",
      "\n",
      "Média: -0.29\n",
      "Variância: 0.57\n",
      "Desvio Padrão: 0.75\n",
      "Média ± Desvio padrão = -0.29 ± 0.75\n"
     ]
    },
    {
     "data": {
      "image/png": "[encoded data removed]",
      "text/plain": [
       "<Figure size 576x432 with 1 Axes>"
      ]
     },
     "metadata": {
      "needs_background": "light"
     },
     "output_type": "display_data"
    }
   ],
   "source": [
    "# Scores (método da máxima verosimilhança, varimax, vizinho mais afasado, distância euclideana),  Ansiedade, Medo, Stress - Sessão 1\n",
    "\n",
    "# Grupo 1: \n",
    "df1 = df.iloc[0:4,10]\n",
    "#print(df1)\n",
    "media = round(df1.mean(),2) #1.82\n",
    "variância = round(df1.var(),2) #0.73\n",
    "desvio_padrao = round(df1.std(),2) #0.85\n",
    "print('\\nMédia:',media)\n",
    "print('Variância:',variância)\n",
    "print('Desvio Padrão:',desvio_padrao)\n",
    "print('Média ± Desvio padrão = 1.82 ± 0.85')\n",
    "\n",
    "# Grupo 2: \n",
    "df2 = df.iloc[7:32,10]\n",
    "#print(df2)\n",
    "media = round(df2.mean(),2) #-0.29\n",
    "variância = round(df2.var(),2) #0.57\n",
    "desvio_padrao = round(df2.std(),2) #0.75\n",
    "print('\\nMédia:',media)\n",
    "print('Variância:',variância)\n",
    "print('Desvio Padrão:',desvio_padrao)\n",
    "print('Média ± Desvio padrão = -0.29 ± 0.75')\n",
    "\n",
    "data = [df1, df2]\n",
    " \n",
    "fig = plt.figure(figsize =(8, 6))\n",
    "\n",
    "# Creating axes instance\n",
    "ax = fig.add_axes([0, 0, 1, 1])\n",
    " \n",
    "# Creating plot\n",
    "bp = ax.boxplot(data)\n",
    "\n",
    "# x-axis labels\n",
    "ax.set_xticklabels(['Group_1', 'Group_2'])\n",
    " \n",
    "# Adding title\n",
    "plt.title(\"Box plot - VAS-pre Session 1\")\n",
    "\n",
    "# show plot\n",
    "plt.show()"
   ]
  },
  {
   "cell_type": "code",
   "execution_count": 8,
   "id": "a6663e58",
   "metadata": {},
   "outputs": [
    {
     "name": "stdout",
     "output_type": "stream",
     "text": [
      "\n",
      "Média: 1.58\n",
      "Variância: 0.58\n",
      "Desvio Padrão: 0.76\n",
      "Média ± Desvio padrão = 1.58 ± 0.76\n",
      "7     0.351862\n",
      "8     1.344291\n",
      "9    -0.241519\n",
      "10    0.254695\n",
      "11    1.275873\n",
      "12   -0.999944\n",
      "13    0.973991\n",
      "14    0.819328\n",
      "15    0.002865\n",
      "16   -1.047060\n",
      "17   -1.144227\n",
      "18   -0.424931\n",
      "19   -1.047060\n",
      "20   -0.619264\n",
      "21    0.031614\n",
      "22    0.100032\n",
      "23   -0.892397\n",
      "24   -0.522097\n",
      "25   -0.522097\n",
      "26   -0.949894\n",
      "27   -0.522097\n",
      "28   -0.561767\n",
      "29   -1.144227\n",
      "30    0.527828\n",
      "31   -1.348941\n",
      "Name: Scores (método da CP, varimax, vizinho mais afasado, distÂncia euclideana), Ansiedade, Medo, Stress - Sessão 1.1, dtype: float64\n",
      "\n",
      "Média: -0.25\n",
      "Variância: 0.63\n",
      "Desvio Padrão: 0.79\n",
      "Média ± Desvio padrão = -0.25 ± 0.79\n"
     ]
    },
    {
     "data": {
      "image/png": "[encoded data removed]",
      "text/plain": [
       "<Figure size 576x432 with 1 Axes>"
      ]
     },
     "metadata": {
      "needs_background": "light"
     },
     "output_type": "display_data"
    }
   ],
   "source": [
    "# Scores (método da CP, varimax, vizinho mais afasado, distÂncia euclideana), Ansiedade, Medo, Stress - Sessão 1\n",
    "\n",
    "# Grupo 1: \n",
    "df1 = df.iloc[0:4,11]\n",
    "#print(df1)\n",
    "media = round(df1.mean(),2) #1.58\n",
    "variância = round(df1.var(),2) #0.58\n",
    "desvio_padrao = round(df1.std(),2) #0.76\n",
    "print('\\nMédia:',media)\n",
    "print('Variância:',variância)\n",
    "print('Desvio Padrão:',desvio_padrao)\n",
    "print('Média ± Desvio padrão = 1.58 ± 0.76')\n",
    "\n",
    "# Grupo 2: \n",
    "df2 = df.iloc[7:32,11]\n",
    "print(df2)\n",
    "media = round(df2.mean(),2) #-0.25\n",
    "variância = round(df2.var(),2) #0.63\n",
    "desvio_padrao = round(df2.std(),2) #0.79\n",
    "print('\\nMédia:',media)\n",
    "print('Variância:',variância)\n",
    "print('Desvio Padrão:',desvio_padrao)\n",
    "print('Média ± Desvio padrão = -0.25 ± 0.79')\n",
    "\n",
    "data = [df1, df2]\n",
    " \n",
    "fig = plt.figure(figsize =(8, 6))\n",
    "\n",
    "# Creating axes instance\n",
    "ax = fig.add_axes([0, 0, 1, 1])\n",
    " \n",
    "# Creating plot\n",
    "bp = ax.boxplot(data)\n",
    "\n",
    "# x-axis labels\n",
    "ax.set_xticklabels(['Group_1', 'Group_2'])\n",
    " \n",
    "# Adding title\n",
    "plt.title(\"Box plot - VAS-pre Session 1\")\n",
    "\n",
    "# show plot\n",
    "plt.show()"
   ]
  },
  {
   "cell_type": "code",
   "execution_count": 9,
   "id": "3d787478",
   "metadata": {},
   "outputs": [
    {
     "name": "stdout",
     "output_type": "stream",
     "text": [
      "\n",
      "Média: 1.64\n",
      "Variância: 0.58\n",
      "Desvio Padrão: 0.76\n",
      "Média ± Desvio padrão = 1.64 ± 0.76\n",
      "8     0.066997\n",
      "9     0.218223\n",
      "10    0.192137\n",
      "11    0.998769\n",
      "12    0.610406\n",
      "13    1.685764\n",
      "14   -0.278380\n",
      "15   -0.421967\n",
      "16   -0.487809\n",
      "17   -1.279224\n",
      "18   -0.747273\n",
      "19   -1.271585\n",
      "20   -0.592289\n",
      "21   -0.782621\n",
      "22   -0.887041\n",
      "23   -0.207684\n",
      "24   -0.243032\n",
      "25   -0.437244\n",
      "26   -1.096470\n",
      "27   -0.495448\n",
      "28   -0.584650\n",
      "29   -0.095626\n",
      "30   -0.945305\n",
      "31   -1.127998\n",
      "Name: Scores (método da máxima verosimilhança, varimax, vizinho mais afasado, distância euclideana), Ansiedade, Alegria, Medo, Stress - Sessão 2.1, dtype: float64\n",
      "\n",
      "Média: -0.34\n",
      "Variância: 0.51\n",
      "Desvio Padrão: 0.72\n",
      "Média ± Desvio padrão = -0.34 ± 0.72\n"
     ]
    },
    {
     "data": {
      "image/png": "[encoded data removed]",
      "text/plain": [
       "<Figure size 576x432 with 1 Axes>"
      ]
     },
     "metadata": {
      "needs_background": "light"
     },
     "output_type": "display_data"
    }
   ],
   "source": [
    "# Scores (método da máxima verosimilhança, varimax, vizinho mais afasado, distância euclideana), Ansiedade, Alegria, Medo, Stress - Sessão 2\n",
    "\n",
    "# Grupo 1: \n",
    "df1 = df.iloc[0:5,12]\n",
    "#print(df1)\n",
    "media = round(df1.mean(),2) #1.64\n",
    "variância = round(df1.var(),2) #0.58\n",
    "desvio_padrao = round(df1.std(),2) #0.76\n",
    "print('\\nMédia:',media)\n",
    "print('Variância:',variância)\n",
    "print('Desvio Padrão:',desvio_padrao)\n",
    "print('Média ± Desvio padrão = 1.64 ± 0.76')\n",
    "\n",
    "# Grupo 2: \n",
    "df2 = df.iloc[8:32,12]\n",
    "print(df2)\n",
    "media = round(df2.mean(),2) #-0.34\n",
    "variância = round(df2.var(),2) #0.51\n",
    "desvio_padrao = round(df2.std(),2) #0.72\n",
    "print('\\nMédia:',media)\n",
    "print('Variância:',variância)\n",
    "print('Desvio Padrão:',desvio_padrao)\n",
    "print('Média ± Desvio padrão = -0.34 ± 0.72')\n",
    "\n",
    "data = [df1, df2]\n",
    " \n",
    "fig = plt.figure(figsize =(8, 6))\n",
    "\n",
    "# Creating axes instance\n",
    "ax = fig.add_axes([0, 0, 1, 1])\n",
    " \n",
    "# Creating plot\n",
    "bp = ax.boxplot(data)\n",
    "\n",
    "# x-axis labels\n",
    "ax.set_xticklabels(['Group_1', 'Group_2'])\n",
    " \n",
    "# Adding title\n",
    "plt.title(\"Box plot - VAS-pre Session 2\")\n",
    "\n",
    "# show plot\n",
    "plt.show()"
   ]
  },
  {
   "cell_type": "code",
   "execution_count": 10,
   "id": "2021aa93",
   "metadata": {},
   "outputs": [
    {
     "name": "stdout",
     "output_type": "stream",
     "text": [
      "\n",
      "Média: 1.69\n",
      "Variância: 0.36\n",
      "Desvio Padrão: 0.6\n",
      "Média ± Desvio padrão = 1.69 ± 0.60\n",
      "8    -0.064265\n",
      "9     0.161540\n",
      "10    0.168185\n",
      "11    0.786784\n",
      "12    0.474463\n",
      "13    1.550112\n",
      "14   -0.298902\n",
      "15   -0.523503\n",
      "16   -0.310141\n",
      "17   -1.220989\n",
      "18   -0.684067\n",
      "19   -1.219786\n",
      "20   -0.752317\n",
      "21   -0.760548\n",
      "22   -0.908066\n",
      "23   -0.145941\n",
      "24   -0.222422\n",
      "25   -0.525911\n",
      "26   -0.919306\n",
      "27   -0.311345\n",
      "28   -0.751114\n",
      "29    0.002781\n",
      "30   -0.988158\n",
      "31   -0.995184\n",
      "Name: Scores (método da CP, varimax, vizinho mais afasado, distância euclideana), Ansiedade, Alegria, Medo, Stress - Sessão 2.1, dtype: float64\n",
      "\n",
      "Média: -0.35\n",
      "Variância: 0.44\n",
      "Desvio Padrão: 0.66\n",
      "Média ± Desvio padrão = -0.35 ± 0.66\n"
     ]
    },
    {
     "data": {
      "image/png": "[encoded data removed]",
      "text/plain": [
       "<Figure size 576x432 with 1 Axes>"
      ]
     },
     "metadata": {
      "needs_background": "light"
     },
     "output_type": "display_data"
    }
   ],
   "source": [
    "# Scores (método da CP, varimax, vizinho mais afasado, distância euclideana), Ansiedade, Alegria, Medo, Stress - Sessão 2\n",
    "\n",
    "# Grupo 1: \n",
    "df1 = df.iloc[0:5,13]\n",
    "#print(df1)\n",
    "media = round(df1.mean(),2) #1.69\n",
    "variância = round(df1.var(),2) #0.36\n",
    "desvio_padrao = round(df1.std(),2) #0.60\n",
    "print('\\nMédia:',media)\n",
    "print('Variância:',variância)\n",
    "print('Desvio Padrão:',desvio_padrao)\n",
    "print('Média ± Desvio padrão = 1.69 ± 0.60')\n",
    "\n",
    "# Grupo 2: \n",
    "df2 = df.iloc[8:32,13]\n",
    "print(df2)\n",
    "media = round(df2.mean(),2) #-0.35\n",
    "variância = round(df2.var(),2) #0.44\n",
    "desvio_padrao = round(df2.std(),2) #0.66\n",
    "print('\\nMédia:',media)\n",
    "print('Variância:',variância)\n",
    "print('Desvio Padrão:',desvio_padrao)\n",
    "print('Média ± Desvio padrão = -0.35 ± 0.66')\n",
    "\n",
    "data = [df1, df2]\n",
    " \n",
    "fig = plt.figure(figsize =(8, 6))\n",
    "\n",
    "# Creating axes instance\n",
    "ax = fig.add_axes([0, 0, 1, 1])\n",
    " \n",
    "# Creating plot\n",
    "bp = ax.boxplot(data)\n",
    "\n",
    "# x-axis labels\n",
    "ax.set_xticklabels(['Group_1', 'Group_2'])\n",
    " \n",
    "# Adding title\n",
    "plt.title(\"Box plot - VAS-pre Session 2\")\n",
    "\n",
    "# show plot\n",
    "plt.show()"
   ]
  },
  {
   "cell_type": "code",
   "execution_count": 13,
   "id": "73c064e7",
   "metadata": {},
   "outputs": [
    {
     "name": "stdout",
     "output_type": "stream",
     "text": [
      "\n",
      "Média: 1.92\n",
      "Variância: 0.08\n",
      "Desvio Padrão: 0.29\n",
      "Média ± Desvio padrão = 1.92 ± 0.29\n",
      "\n",
      "Média: -0.4\n",
      "Variância: 0.35\n",
      "Desvio Padrão: 0.59\n",
      "Média ± Desvio padrão = -0.4 ± 0.59\n"
     ]
    },
    {
     "data": {
      "image/png": "[encoded data removed]",
      "text/plain": [
       "<Figure size 576x432 with 1 Axes>"
      ]
     },
     "metadata": {
      "needs_background": "light"
     },
     "output_type": "display_data"
    }
   ],
   "source": [
    "# Scores (método da máxima verosimilhança, varimax, vizinho mais afasado, distância euclideana), Ansiedade, Medo, Stress - Sessão 2\n",
    "\n",
    "# Grupo 1: \n",
    "df1 = df.iloc[0:5,14]\n",
    "#print(df1)\n",
    "media = round(df1.mean(),2) #1.92\n",
    "variância = round(df1.var(),2) #0.08\n",
    "desvio_padrao = round(df1.std(),2) #0.29\n",
    "print('\\nMédia:',media)\n",
    "print('Variância:',variância)\n",
    "print('Desvio Padrão:',desvio_padrao)\n",
    "print('Média ± Desvio padrão = 1.92 ± 0.29')\n",
    "\n",
    "# Grupo 2: \n",
    "df2 = df.iloc[8:32,14]\n",
    "#print(df2)\n",
    "media = round(df2.mean(),2) #-0.4\n",
    "variância = round(df2.var(),2) #0.35\n",
    "desvio_padrao = round(df2.std(),2) #0.59\n",
    "print('\\nMédia:',media)\n",
    "print('Variância:',variância)\n",
    "print('Desvio Padrão:',desvio_padrao)\n",
    "print('Média ± Desvio padrão = -0.4 ± 0.59')\n",
    "\n",
    "data = [df1, df2]\n",
    " \n",
    "fig = plt.figure(figsize =(8, 6))\n",
    "\n",
    "# Creating axes instance\n",
    "ax = fig.add_axes([0, 0, 1, 1])\n",
    " \n",
    "# Creating plot\n",
    "bp = ax.boxplot(data)\n",
    "\n",
    "# x-axis labels\n",
    "ax.set_xticklabels(['Group_1', 'Group_2'])\n",
    " \n",
    "# Adding title\n",
    "plt.title(\"Box plot - VAS-pre Session 2\")\n",
    "\n",
    "# show plot\n",
    "plt.show()"
   ]
  },
  {
   "cell_type": "code",
   "execution_count": 15,
   "id": "82c5c424",
   "metadata": {},
   "outputs": [
    {
     "name": "stdout",
     "output_type": "stream",
     "text": [
      "\n",
      "Média: 1.77\n",
      "Variância: 0.52\n",
      "Desvio Padrão: 0.72\n",
      "Média ± Desvio padrão = 1.77 ± 0.72\n",
      "\n",
      "Média: -0.37\n",
      "Variância: 0.3\n",
      "Desvio Padrão: 0.55\n",
      "Média ± Desvio padrão = -0.37 ± 0.55\n"
     ]
    },
    {
     "data": {
      "image/png": "[encoded data removed]",
      "text/plain": [
       "<Figure size 576x432 with 1 Axes>"
      ]
     },
     "metadata": {
      "needs_background": "light"
     },
     "output_type": "display_data"
    }
   ],
   "source": [
    "# Scores (método da CP, varimax, vizinho mais afasado, distância euclideana), Ansiedade, Medo, Stress - Sessão 2\n",
    "\n",
    "# Grupo 1: \n",
    "df1 = df.iloc[0:5,15]\n",
    "#print(df1)\n",
    "media = round(df1.mean(),2) #1.77\n",
    "variância = round(df1.var(),2) #0.52\n",
    "desvio_padrao = round(df1.std(),2) #0.72\n",
    "print('\\nMédia:',media)\n",
    "print('Variância:',variância)\n",
    "print('Desvio Padrão:',desvio_padrao)\n",
    "print('Média ± Desvio padrão = 1.77 ± 0.72')\n",
    "\n",
    "# Grupo 2: \n",
    "df2 = df.iloc[8:32,15]\n",
    "#print(df2)\n",
    "media = round(df2.mean(),2) #-0.37\n",
    "variância = round(df2.var(),2) #0.30\n",
    "desvio_padrao = round(df2.std(),2) #0.55\n",
    "print('\\nMédia:',media)\n",
    "print('Variância:',variância)\n",
    "print('Desvio Padrão:',desvio_padrao)\n",
    "print('Média ± Desvio padrão = -0.37 ± 0.55')\n",
    "\n",
    "data = [df1, df2]\n",
    " \n",
    "fig = plt.figure(figsize =(8, 6))\n",
    "\n",
    "# Creating axes instance\n",
    "ax = fig.add_axes([0, 0, 1, 1])\n",
    " \n",
    "# Creating plot\n",
    "bp = ax.boxplot(data)\n",
    "\n",
    "# x-axis labels\n",
    "ax.set_xticklabels(['Group_1', 'Group_2'])\n",
    " \n",
    "# Adding title\n",
    "plt.title(\"Box plot - VAS-pre Session 2\")\n",
    "\n",
    "# show plot\n",
    "plt.show()"
   ]
  },
  {
   "cell_type": "markdown",
   "id": "56afa26f",
   "metadata": {},
   "source": [
    "### Sessão 1 vs Sessão 2:"
   ]
  },
  {
   "cell_type": "markdown",
   "id": "0fe01cab",
   "metadata": {},
   "source": [
    "#### 3 grupos:"
   ]
  },
  {
   "cell_type": "code",
   "execution_count": 17,
   "id": "04259076",
   "metadata": {},
   "outputs": [
    {
     "data": {
      "image/png": "[encoded data removed]",
      "text/plain": [
       "<Figure size 576x432 with 1 Axes>"
      ]
     },
     "metadata": {
      "needs_background": "light"
     },
     "output_type": "display_data"
    }
   ],
   "source": [
    "#Scores (máxima verosimilhança, varimax, vizinho mais afasado, distÂncia euclideana), Ansiedade, Alegria, Medo, Stress - Sessão 1\n",
    "# e sessão 2:\n",
    "\n",
    "# Grupo 1: Só um elemento (2.975033998)\n",
    "df1 = round(2.975033998,2)\n",
    "\n",
    "# Grupo 2: \n",
    "df2 = df.iloc[4:13,0]\n",
    "\n",
    "# Grupo 3: \n",
    "df3 = df.iloc[16:36,0]\n",
    "\n",
    "# Grupo 1: Só tem um elemento (2.36661199)\n",
    "df4 = round(2.36661199,2)\n",
    "\n",
    "# Grupo 2: \n",
    "df5 = df.iloc[4:8,6]\n",
    "\n",
    "# Grupo 3: \n",
    "df6 = df.iloc[11:36,6]\n",
    "\n",
    "data = [df1, df2, df3, df4, df5, df6]\n",
    " \n",
    "fig = plt.figure(figsize =(8, 6))\n",
    "\n",
    "# Creating axes instance\n",
    "ax = fig.add_axes([0, 0, 1, 1])\n",
    " \n",
    "# Creating plot\n",
    "bp = ax.boxplot(data)\n",
    "\n",
    "# x-axis labels\n",
    "ax.set_xticklabels(['G1-S1', 'G2-S2','G3-S3','G4-S4','G5-S5','G6-S6'])\n",
    " \n",
    "# Adding title\n",
    "plt.title(\"Box plot - VAS-pre Session 1 vs Session 2 (máx verosimilhança, com alegria)\")\n",
    "\n",
    "# show plot\n",
    "plt.show()"
   ]
  },
  {
   "cell_type": "code",
   "execution_count": 19,
   "id": "92862c6b",
   "metadata": {},
   "outputs": [
    {
     "data": {
      "image/png": "[encoded data removed]",
      "text/plain": [
       "<Figure size 576x432 with 1 Axes>"
      ]
     },
     "metadata": {
      "needs_background": "light"
     },
     "output_type": "display_data"
    }
   ],
   "source": [
    "# Scores (método da CP, varimax, vizinho mais afasado, distÂncia euclideana), Ansiedade, Alegria, Medo, Stress - Sessão 1 e Sessão 2\n",
    "\n",
    "# Grupo 1: Só um elemento (2.63345318)\n",
    "df1= round(2.63345318,2)\n",
    "\n",
    "# Grupo 2: \n",
    "df2 = df.iloc[4:13,1]\n",
    "\n",
    "# Grupo 3: \n",
    "df3 = df.iloc[16:36,1]\n",
    "\n",
    "# Grupo 1: \n",
    "df4 = df.iloc[0:5,5]\n",
    "\n",
    "# Grupo 2: \n",
    "df5 = df.iloc[8:16,5]\n",
    "\n",
    "# Grupo 3: \n",
    "df6 = df.iloc[19:36,5]\n",
    "\n",
    "data = [df1, df2, df3,df4,df5,df6]\n",
    " \n",
    "fig = plt.figure(figsize =(8, 6))\n",
    " \n",
    "# Creating axes instance\n",
    "ax = fig.add_axes([0, 0, 1, 1])\n",
    " \n",
    "# Creating plot\n",
    "bp = ax.boxplot(data)\n",
    "\n",
    "# x-axis labels\n",
    "ax.set_xticklabels(['G1_S1', 'G2_S2','G3_S3','G4_S4','G5_S5','G6_S6'])\n",
    " \n",
    "# Adding title\n",
    "plt.title(\"Box plot - VAS-pre Session 1 vs Session 2 (CP, com alegria)\")\n",
    "\n",
    "# show plot\n",
    "plt.show()"
   ]
  },
  {
   "cell_type": "code",
   "execution_count": 20,
   "id": "431b4695",
   "metadata": {},
   "outputs": [
    {
     "data": {
      "image/png": "[encoded data removed]",
      "text/plain": [
       "<Figure size 576x432 with 1 Axes>"
      ]
     },
     "metadata": {
      "needs_background": "light"
     },
     "output_type": "display_data"
    }
   ],
   "source": [
    "# Scores (método da máxima verosimilhança, varimax, vizinho mais afasado, distância euclideana),  Ansiedade, Medo, Stress - Sessão 1 e sessão 2\n",
    "\n",
    "# Grupo 1: \n",
    "df1 = df.iloc[0:4,2]\n",
    "\n",
    "# Grupo 2: \n",
    "df2 = df.iloc[7:15,2]\n",
    "\n",
    "# Grupo 3: \n",
    "df3 = df.iloc[18:36,2]\n",
    "\n",
    "# Grupo 1: Só tem um elemento (2.36661199)\n",
    "df4 = round(2.36661199,2)\n",
    "\n",
    "# Grupo 2: \n",
    "df5 = df.iloc[4:8,6]\n",
    "\n",
    "# Grupo 3: \n",
    "df6 = df.iloc[11:36,6]\n",
    "\n",
    "data = [df1, df2, df3,df4,df5,df6]\n",
    " \n",
    "fig = plt.figure(figsize =(8, 6))\n",
    " \n",
    "# Creating axes instance\n",
    "ax = fig.add_axes([0, 0, 1, 1])\n",
    " \n",
    "# Creating plot\n",
    "bp = ax.boxplot(data)\n",
    "\n",
    "# x-axis labels\n",
    "ax.set_xticklabels(['G1_S1', 'G2_S2','G3_S3','G4_S4','G5_S5','G6_S6'])\n",
    " \n",
    "# Adding title\n",
    "plt.title(\"Box plot - VAS-pre Session 1 vs Session 2 (máx verosimilhança, sem alegria)\")\n",
    "\n",
    "# show plot\n",
    "plt.show()"
   ]
  },
  {
   "cell_type": "code",
   "execution_count": 21,
   "id": "bc5741ec",
   "metadata": {},
   "outputs": [
    {
     "data": {
      "image/png": "[encoded data removed]",
      "text/plain": [
       "<Figure size 576x432 with 1 Axes>"
      ]
     },
     "metadata": {
      "needs_background": "light"
     },
     "output_type": "display_data"
    }
   ],
   "source": [
    "# Scores (método da CP, varimax, vizinho mais afasado, distÂncia euclideana), Ansiedade, Medo, Stress - Sessão 1 e Sessão 2\n",
    "\n",
    "# Grupo 1: \n",
    "df1 = df.iloc[0:4,3]\n",
    "\n",
    "# Grupo 2: \n",
    "df2 = df.iloc[7:15,3]\n",
    "\n",
    "# Grupo 3: \n",
    "df3 = df.iloc[18:36,3]\n",
    "\n",
    "# Grupo 1: Só tem um elemento (0.88602275)\n",
    "df4 = round(0.88602275,2)\n",
    "\n",
    "# Grupo 2: \n",
    "df5 = df.iloc[4:8,7]\n",
    "\n",
    "# Grupo 3: \n",
    "df6 = df.iloc[11:36,7]\n",
    "\n",
    "data = [df1, df2, df3,df4,df5,df6]\n",
    " \n",
    "fig = plt.figure(figsize =(8, 6))\n",
    " \n",
    "# Creating axes instance\n",
    "ax = fig.add_axes([0, 0, 1, 1])\n",
    " \n",
    "# Creating plot\n",
    "bp = ax.boxplot(data)\n",
    "\n",
    "# x-axis labels\n",
    "ax.set_xticklabels(['G1_S1', 'G2_S2','G3_S3','G4_S4','G5_S5','G6_S6'])\n",
    " \n",
    "# Adding title\n",
    "plt.title(\"Box plot - VAS-pre Session 1 vs Session 2 (CP, sem alegria)\")\n",
    "\n",
    "# show plot\n",
    "plt.show()"
   ]
  },
  {
   "cell_type": "markdown",
   "id": "83edbac9",
   "metadata": {},
   "source": [
    "#### 2 Grupos: "
   ]
  },
  {
   "cell_type": "code",
   "execution_count": 22,
   "id": "a28ea163",
   "metadata": {},
   "outputs": [
    {
     "data": {
      "image/png": "[encoded data removed]",
      "text/plain": [
       "<Figure size 576x432 with 1 Axes>"
      ]
     },
     "metadata": {
      "needs_background": "light"
     },
     "output_type": "display_data"
    }
   ],
   "source": [
    "#Scores (máxima verosimilhança, varimax, vizinho mais afasado, distÂncia euclideana), Ansiedade, Alegria, Medo, Stress - Sessão 1 e Sessão 2\n",
    "\n",
    "# Grupo 1: Só tem um elemento (2.975033998)\n",
    "df1 = round(2.97503,2)\n",
    "\n",
    "# Grupo 2: \n",
    "df2 = df.iloc[4:32,8]\n",
    "\n",
    "# Grupo 1: \n",
    "df3 = df.iloc[0:5,12]\n",
    "\n",
    "# Grupo 2: \n",
    "df4 = df.iloc[8:32,12]\n",
    "\n",
    "data = [df1, df2, df3,df4]\n",
    " \n",
    "fig = plt.figure(figsize =(8, 6))\n",
    " \n",
    "# Creating axes instance\n",
    "ax = fig.add_axes([0, 0, 1, 1])\n",
    " \n",
    "# Creating plot\n",
    "bp = ax.boxplot(data)\n",
    "\n",
    "# x-axis labels\n",
    "ax.set_xticklabels(['G1_S1', 'G2_S2','G3_S3','G4_S4'])\n",
    " \n",
    "# Adding title\n",
    "plt.title(\"Box plot - VAS-pre Session 1 vs Session 2 (máx verosimilhança, com alegria)\")\n",
    "\n",
    "# show plot\n",
    "plt.show()"
   ]
  },
  {
   "cell_type": "code",
   "execution_count": 24,
   "id": "88d8358a",
   "metadata": {},
   "outputs": [
    {
     "data": {
      "image/png": "[encoded data removed]",
      "text/plain": [
       "<Figure size 576x432 with 1 Axes>"
      ]
     },
     "metadata": {
      "needs_background": "light"
     },
     "output_type": "display_data"
    }
   ],
   "source": [
    "#Scores (método da CP, varimax, vizinho mais afasado, distÂncia euclideana), Ansiedade, Alegria, Medo, Stress - Sessão 1\n",
    "\n",
    "# Grupo 1: Só tem um elemento (2.63345318)\n",
    "df1 = round(2.63345,2)\n",
    "\n",
    "# Grupo 2: \n",
    "df2 = df.iloc[4:32,9]\n",
    "\n",
    "# Grupo 1: \n",
    "df3 = df.iloc[0:5,13]\n",
    "\n",
    "# Grupo 2: \n",
    "df4 = df.iloc[8:32,13]\n",
    "\n",
    "data = [df1, df2, df3,df4]\n",
    " \n",
    "fig = plt.figure(figsize =(8, 6))\n",
    " \n",
    "# Creating axes instance\n",
    "ax = fig.add_axes([0, 0, 1, 1])\n",
    " \n",
    "# Creating plot\n",
    "bp = ax.boxplot(data)\n",
    "\n",
    "# x-axis labels\n",
    "ax.set_xticklabels(['G1_S1', 'G2_S2','G3_S3','G4_S4'])\n",
    " \n",
    "# Adding title\n",
    "plt.title(\"Box plot - VAS-pre Session 1 vs Session 2 (CP, com alegria)\")\n",
    "\n",
    "# show plot\n",
    "plt.show()"
   ]
  },
  {
   "cell_type": "code",
   "execution_count": 25,
   "id": "05e329ee",
   "metadata": {},
   "outputs": [
    {
     "data": {
      "image/png": "[encoded data removed]",
      "text/plain": [
       "<Figure size 576x432 with 1 Axes>"
      ]
     },
     "metadata": {
      "needs_background": "light"
     },
     "output_type": "display_data"
    }
   ],
   "source": [
    "# Scores (método da máxima verosimilhança, varimax, vizinho mais afasado, distância euclideana),  Ansiedade, Medo, Stress - Sessão 1 e Sessão 2\n",
    "\n",
    "# Grupo 1: \n",
    "df1 = df.iloc[0:4,10]\n",
    "\n",
    "# Grupo 2: \n",
    "df2 = df.iloc[7:32,10]\n",
    "\n",
    "# Grupo 1: \n",
    "df3 = df.iloc[0:5,14]\n",
    "\n",
    "# Grupo 2: \n",
    "df4 = df.iloc[8:32,14]\n",
    "\n",
    "data = [df1, df2, df3,df4]\n",
    " \n",
    "fig = plt.figure(figsize =(8, 6))\n",
    " \n",
    "# Creating axes instance\n",
    "ax = fig.add_axes([0, 0, 1, 1])\n",
    " \n",
    "# Creating plot\n",
    "bp = ax.boxplot(data)\n",
    "\n",
    "# x-axis labels\n",
    "ax.set_xticklabels(['G1_S1', 'G2_S2','G3_S3','G4_S4'])\n",
    " \n",
    "# Adding title\n",
    "plt.title(\"Box plot - VAS-pre Session 1 vs Session 2 (máx verosimilhança, sem alegria)\")\n",
    "\n",
    "# show plot\n",
    "plt.show()"
   ]
  },
  {
   "cell_type": "code",
   "execution_count": 26,
   "id": "255096a9",
   "metadata": {},
   "outputs": [
    {
     "data": {
      "image/png": "[encoded data removed]",
      "text/plain": [
       "<Figure size 576x432 with 1 Axes>"
      ]
     },
     "metadata": {
      "needs_background": "light"
     },
     "output_type": "display_data"
    }
   ],
   "source": [
    "# Scores (método da CP, varimax, vizinho mais afasado, distÂncia euclideana), Ansiedade, Medo, Stress - Sessão 1 e Sessão 2\n",
    "\n",
    "# Grupo 1: \n",
    "df1 = df.iloc[0:4,11]\n",
    "\n",
    "# Grupo 2: \n",
    "df2 = df.iloc[7:32,11]\n",
    "\n",
    "# Grupo 1: \n",
    "df3 = df.iloc[0:5,15]\n",
    "\n",
    "# Grupo 2: \n",
    "df4 = df.iloc[8:32,15]\n",
    "\n",
    "data = [df1, df2, df3,df4]\n",
    " \n",
    "fig = plt.figure(figsize =(8, 6))\n",
    " \n",
    "# Creating axes instance\n",
    "ax = fig.add_axes([0, 0, 1, 1])\n",
    " \n",
    "# Creating plot\n",
    "bp = ax.boxplot(data)\n",
    "\n",
    "# x-axis labels\n",
    "ax.set_xticklabels(['G1_S1', 'G2_S2','G3_S3','G4_S4'])\n",
    " \n",
    "# Adding title\n",
    "plt.title(\"Box plot - VAS-pre Session 1 vs Session 2 (máx verosimilhança, sem alegria)\")\n",
    "\n",
    "# show plot\n",
    "plt.show()"
   ]
  },
  {
   "cell_type": "code",
   "execution_count": null,
   "id": "55ac6b45",
   "metadata": {},
   "outputs": [],
   "source": []
  }
 ],
 "metadata": {
  "kernelspec": {
   "display_name": "Python 3 (ipykernel)",
   "language": "python",
   "name": "python3"
  },
  "language_info": {
   "codemirror_mode": {
    "name": "ipython",
    "version": 3
   },
   "file_extension": ".py",
   "mimetype": "text/x-python",
   "name": "python",
   "nbconvert_exporter": "python",
   "pygments_lexer": "ipython3",
   "version": "3.9.7"
  }
 },
 "nbformat": 4,
 "nbformat_minor": 5
}
