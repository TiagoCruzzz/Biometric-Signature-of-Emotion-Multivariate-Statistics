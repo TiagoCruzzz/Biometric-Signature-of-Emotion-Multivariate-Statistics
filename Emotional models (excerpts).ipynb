{
 "cells": [
  {
   "cell_type": "markdown",
   "id": "a204596e",
   "metadata": {},
   "source": [
    "### Emotion models - Considering the division of each signal in 5 excerpts:  "
   ]
  },
  {
   "cell_type": "markdown",
   "id": "79309929",
   "metadata": {},
   "source": [
    "##### Feature optimization, model training and evaluation and hyperparameters optimization for each dataset and for each combination between groups formed and set of features. "
   ]
  },
  {
   "cell_type": "code",
   "execution_count": 1,
   "id": "152e4d5b",
   "metadata": {},
   "outputs": [],
   "source": [
    "import pandas as pd\n",
    "import numpy as np\n",
    "import matplotlib.pyplot as plt\n",
    "import seaborn as sns\n",
    "\n",
    "import pickle\n",
    "\n",
    "from time import time \n",
    "import random\n",
    "import itertools\n",
    "from itertools import repeat\n",
    "\n",
    "from scipy import stats\n",
    "from scipy.spatial.distance import pdist, squareform \n",
    "from scipy.cluster.hierarchy import dendrogram, linkage\n",
    "from statsmodels.stats.anova import AnovaRM\n",
    "\n",
    "from sklearn.utils import shuffle\n",
    "from sklearn.feature_selection import RFE, RFECV\n",
    "from sklearn.svm import SVC\n",
    "from sklearn.model_selection import train_test_split, cross_val_score, StratifiedKFold, GridSearchCV\n",
    "from sklearn.metrics import confusion_matrix, mean_squared_error, mean_absolute_error, classification_report, accuracy_score, f1_score\n",
    "from sklearn.preprocessing import MinMaxScaler\n",
    "from sklearn.model_selection import KFold, ShuffleSplit, GroupShuffleSplit\n",
    "from sklearn.feature_selection import SelectFromModel"
   ]
  },
  {
   "cell_type": "code",
   "execution_count": 2,
   "id": "aa2d7e17",
   "metadata": {},
   "outputs": [],
   "source": [
    "# Train set composed of 75% of participants and test set composed by the reamining 25% of participants:\n",
    "def train_test_diff_part_equal_emotion (df_, part_list, test_size):\n",
    "    \n",
    "    random.shuffle(part_list)\n",
    "    \n",
    "    n_train = round((1-test_size) * len(part_list))\n",
    "    n_test = len(part_list) - n_train\n",
    "    \n",
    "    train_indices = random.sample(part_list, k=n_train)\n",
    "    test_indices = []\n",
    "    for part in part_list:\n",
    "        if part not in train_indices:\n",
    "            test_indices.append(part)\n",
    "    \n",
    "    train_set = df_[df_['Participante'].isin(train_indices)].copy()\n",
    "    test_set = df_[df_['Participante'].isin(test_indices)].copy()\n",
    "    \n",
    "    return train_set, test_set\n",
    "\n",
    "# Train set composed by all participants and emotions (Use of 4 excerpts per participant and emotion)\n",
    "# And test set composed by all participants and emotions (Use of the remaining excerpt per participant and emotion):\n",
    "def train_test_equal_part_emotion (data):\n",
    "    \n",
    "    e_val = []\n",
    "    for part in data['Participante'].unique().tolist():\n",
    "        for emotion in data['Labels'].unique().tolist():\n",
    "            e = int(random.choice(data['Excerpt'].unique().tolist()))\n",
    "            e_val.append(e)\n",
    "\n",
    "    train_set=data.copy()\n",
    "    test_set=pd.DataFrame(columns=data.columns)\n",
    "    i=0\n",
    "    for part in data['Participante'].unique().tolist():\n",
    "        test_set = test_set.append(train_set[(train_set['Participante']==part) & (train_set['Labels']=='Fear') & (train_set['Excerpt']==e_val[i])])\n",
    "        train_set.drop(train_set[(train_set['Participante']==part) & (train_set['Labels']=='Fear') & (train_set['Excerpt']==e_val[i])].index, inplace = True)\n",
    "        i=i+1\n",
    "        test_set = test_set.append(train_set[(train_set['Participante']==part) & (train_set['Labels']=='Happy') & (train_set['Excerpt']==e_val[i])])\n",
    "        train_set.drop(train_set[(train_set['Participante']==part) & (train_set['Labels']=='Happy') & (train_set['Excerpt']==e_val[i])].index, inplace = True)\n",
    "        i=i+1\n",
    "        test_set = test_set.append(train_set[(train_set['Participante']==part) & (train_set['Labels']=='Neutral') & (train_set['Excerpt']==e_val[i])])\n",
    "        train_set.drop(train_set[(train_set['Participante']==part) & (train_set['Labels']=='Neutral') & (train_set['Excerpt']==e_val[i])].index, inplace = True)\n",
    "        i=i+1\n",
    "    \n",
    "    \n",
    "    return train_set, test_set"
   ]
  },
  {
   "cell_type": "markdown",
   "id": "23a0e60d",
   "metadata": {},
   "source": [
    "#### Acessing and standardizating data:"
   ]
  },
  {
   "cell_type": "code",
   "execution_count": 3,
   "id": "1f399ddc",
   "metadata": {},
   "outputs": [],
   "source": [
    "def acess_data (filename, sheetname, signal):\n",
    "\n",
    "    #Acessing data\n",
    "    data = pd.read_excel(filename, sheet_name=sheetname)\n",
    "        \n",
    "    #Standardizating (Signals)\n",
    "    if signal:\n",
    "        feat = data.drop(['Labels','Participante'], axis=1).columns\n",
    "        scaler = MinMaxScaler()\n",
    "        data[feat] = scaler.fit_transform(data[feat])\n",
    "    \n",
    "    #Standardizating (Signal excerpts)\n",
    "    else:\n",
    "        feat = data.drop(['Labels','Participante', 'Excerpt'], axis=1).columns\n",
    "        scaler = MinMaxScaler()\n",
    "        data[feat] = scaler.fit_transform(data[feat])\n",
    "        \n",
    "    return data"
   ]
  },
  {
   "cell_type": "markdown",
   "id": "041d17a1",
   "metadata": {},
   "source": [
    "#### Feature Selection with Recursive Feature Elimination with Cross-Validation (RFECV)"
   ]
  },
  {
   "cell_type": "code",
   "execution_count": 4,
   "id": "ba502450",
   "metadata": {},
   "outputs": [],
   "source": [
    "# Evaluating the performance of the emotional model according to the number of features/variables/pcs (extra feature selection -> select the features/variables/pcs that are more important in the SVM model) )\n",
    "def recursive_feat_elimination (x, y):\n",
    "    \n",
    "    # Recursive Elimination with cross-validation\n",
    "    tic = time()\n",
    "    svc = SVC(kernel=\"linear\")\n",
    "    min_feat_select = 1  # Minimum number of features/variables/pcs to consider\n",
    "    rfecv = RFECV(estimator=svc, step=1, cv=StratifiedKFold(2), scoring='accuracy', min_features_to_select=min_feat_select)\n",
    "    \n",
    "    #StratifiedKFold for multiclass or binary y\n",
    "    rfecv.fit(x, y)\n",
    "    toc = time()\n",
    "    print('Duration {:.2f} seconds'.format(toc - tic))\n",
    "\n",
    "    optimal_number_feat = rfecv.n_features_\n",
    "    print('\\nOptimal number of variables: ',rfecv.n_features_) #Variables because it can be principal components or signal features\n",
    "    optimal_selected_feat = x.columns[rfecv.support_].to_list()\n",
    "    print('\\nSelected variable(s): ', optimal_selected_feat)\n",
    "\n",
    "    # Plot number of features VS. cross-validation scores\n",
    "    plt.figure(figsize=(13,5))\n",
    "    plt.xlabel(\"Number of variables selected\")\n",
    "    plt.ylabel(\"Cross validation score\")\n",
    "    range_feat = range(min_feat_select,len(rfecv.grid_scores_) + min_feat_select)\n",
    "    cross_val_score=rfecv.grid_scores_\n",
    "    plt.plot(range(min_feat_select,len(rfecv.grid_scores_) + min_feat_select), rfecv.grid_scores_)\n",
    "    plt.grid()\n",
    "    plt.show()\n",
    "    \n",
    "    return optimal_number_feat, optimal_selected_feat, range_feat, cross_val_score"
   ]
  },
  {
   "cell_type": "markdown",
   "id": "5fdb2cf6",
   "metadata": {},
   "source": [
    "#### Emotional model:"
   ]
  },
  {
   "cell_type": "code",
   "execution_count": 5,
   "id": "e7ca4448",
   "metadata": {},
   "outputs": [],
   "source": [
    "def model_svm (xtrain, xtest, ytrain, ytest):\n",
    "\n",
    "    # GridSearchCV\n",
    "    parameters = [{'kernel':['rbf'], 'gamma':[1, 0.1, 0.01, 0.001, 0.0001],'C':[0.1, 1, 10, 100, 1000]},\n",
    "                  {'kernel': ['linear'], 'C':[0.1, 1, 10, 100, 1000]},\n",
    "                  {'kernel': ['poly'], 'gamma':[1, 0.1, 0.01, 0.001, 0.0001],'C':[0.1, 1, 10, 100, 1000],'degree':[0,1,2,3,4,5,6]}]\n",
    "    classifier = SVC()\n",
    "    model_GSCV = GridSearchCV(classifier, parameters, verbose=3, return_train_score=True) # scoring='accuracy',\n",
    "    \n",
    "    # Fitting\n",
    "    model_GSCV.fit(xtrain,ytrain) #The model is using the best paramenters\n",
    "    print('\\nBest parameters set found on development set:')\n",
    "    print(model_GSCV.best_params_)\n",
    "    \n",
    "\n",
    "    # Predicting\n",
    "    GSCV_predictions_train = model_GSCV.predict(xtrain)\n",
    "    GSCV_predictions_test = model_GSCV.predict(xtest)\n",
    "    \n",
    "    results_train = pd.DataFrame()\n",
    "    results_test = pd.DataFrame()\n",
    "    results_train['Truth'] = ytrain\n",
    "    results_test['Truth'] = ytest\n",
    "    results_train['Predicted Emotion Train'] = GSCV_predictions_train\n",
    "    results_test['Predicted Emotion Test'] = GSCV_predictions_test\n",
    "    \n",
    "    # Classification report\n",
    "    print('\\nClassification Report Train:')\n",
    "    train_rep = classification_report(ytrain,GSCV_predictions_train, digits=3)\n",
    "    dic_train = classification_report(ytrain,GSCV_predictions_train, digits=3, output_dict=True)\n",
    "    print(train_rep)\n",
    "    print('\\nClassification Report Test:')\n",
    "    test_rep= classification_report(ytest,GSCV_predictions_test, digits=3)\n",
    "    dic_test = classification_report(ytest,GSCV_predictions_test, digits=3, output_dict=True)\n",
    "    print(test_rep)\n",
    "    \n",
    "    ac_train = accuracy_score(ytrain,GSCV_predictions_train)\n",
    "    ac_test = accuracy_score(ytest,GSCV_predictions_test)\n",
    "    \n",
    "    print(\"\\nAccuracy Train: \", ac_train)\n",
    "    print(\"\\nAccuracy Test:: \", ac_test)\n",
    "    \n",
    "    return model_GSCV.best_params_, results_train, results_test, dic_train, dic_test"
   ]
  },
  {
   "cell_type": "markdown",
   "id": "10782ad8",
   "metadata": {},
   "source": [
    "#### Cross Validation:"
   ]
  },
  {
   "cell_type": "code",
   "execution_count": 6,
   "id": "e416d3ed",
   "metadata": {},
   "outputs": [],
   "source": [
    "def cross_validation (data, optimal_feat, split1, split2, split3, split4, test_size, X):\n",
    "    \n",
    "    dic = {}\n",
    "    \n",
    "    for i in range(0, X):\n",
    "    \n",
    "        dic[i]={}\n",
    "        \n",
    "        # Splitting data\n",
    "        if split1==True:\n",
    "            participants_list = data['Participante'].unique()\n",
    "            train, test = train_test_equal_part_diff_emotion(data,participants_list)\n",
    "            \n",
    "        elif split2==True:\n",
    "            participants_list = data['Participante'].unique().tolist()\n",
    "            train, test = train_test_diff_part_equal_emotion (data, participants_list, test_size)\n",
    "        \n",
    "        elif split3==True:\n",
    "            train, test = train_test_equal_part_emotion (data)\n",
    "            \n",
    "        elif split4==True:\n",
    "            train, test = split_Fear_Happy (data)\n",
    "        \n",
    "        x_train = train[optimal_feat].values\n",
    "        x_test = test[optimal_feat].values\n",
    "        y_train = train['Labels'].values\n",
    "        y_test = test['Labels'].values\n",
    "        \n",
    "        # Index of train and test\n",
    "        index_train = train.index.tolist()\n",
    "        index_test = test.index.tolist()\n",
    "\n",
    "        # Emotional Model\n",
    "        best_params, results_train, results_test, dic_train, dic_test = model_svm (x_train, x_test, y_train, y_test)\n",
    "        \n",
    "        print('\\n')\n",
    "        \n",
    "        # May happen that the best hyper-parameter of kernel is linear so there is no gamma associated\n",
    "        if 'gamma' not in best_params.keys():\n",
    "            gamma = '-'\n",
    "        else :\n",
    "            gamma = best_params['gamma']\n",
    "        \n",
    "        if 'degree' not in best_params.keys():\n",
    "            degree = '-'\n",
    "        else :\n",
    "            degree = best_params['degree']\n",
    "        \n",
    "        neutral_train = dic_train['Neutral']['f1-score']\n",
    "        neutral_test = dic_test['Neutral']['f1-score']\n",
    "        \n",
    "        # Creating dictionary with information of each run\n",
    "        dic[i] = {'C':best_params['C'],'gamma':gamma,'degree':degree,'kernel':best_params['kernel'], \n",
    "                  'AccuracyTrain':dic_train['accuracy'], 'AccuracyTest':dic_test['accuracy'], \n",
    "                  'FearTrain':dic_train['Fear']['f1-score'], 'FearTest':dic_test['Fear']['f1-score'], \n",
    "                  'HappyTrain':dic_train['Happy']['f1-score'], 'HappyTest':dic_test['Happy']['f1-score'], \n",
    "                  'NeutralTrain':neutral_train, 'NeutralTest':neutral_test,\n",
    "                  'IndexTrain': index_train, 'IndexTest':index_test}\n",
    "\n",
    "    # Printing Results\n",
    "    print('----------------------------------------Final Results----------------------------------------')\n",
    "    results = pd.DataFrame.from_dict(dic, orient='index')\n",
    "    \n",
    "    print('\\nTrain Results:')\n",
    "    print('\\nAverage Accuracy: ', results.AccuracyTrain.mean())\n",
    "    print('\\nStandard Deviation Accuracy: ', results.AccuracyTrain.std())\n",
    "    print('\\nAverage Accuracy - Fear: ', results.FearTrain.mean())\n",
    "    print('Average Accuracy - Happy: ', results.HappyTrain.mean())\n",
    "    print('Average Accuracy - Neutral: ', results.NeutralTrain.mean())\n",
    "    \n",
    "    print('\\nTest Results:')\n",
    "    print('\\nAverage Accuracy: ', results.AccuracyTest.mean())\n",
    "    print('\\nStandard Deviation Accuracy: ', results.AccuracyTest.std())\n",
    "    print('Max Test Accuracy: ', results.AccuracyTest.max())\n",
    "    print('Min Test Accuracy: ', results.AccuracyTest.min())\n",
    "    print('\\nAverage Accuracy - Fear: ', results.FearTest.mean())\n",
    "    print('Average Accuracy - Happy: ', results.HappyTest.mean())\n",
    "    print('Average Accuracy - Neutral: ', results.NeutralTest.mean())    \n",
    "    \n",
    "    return results"
   ]
  },
  {
   "cell_type": "markdown",
   "id": "dc06825e",
   "metadata": {},
   "source": [
    "#### Train, validation and test:"
   ]
  },
  {
   "cell_type": "code",
   "execution_count": 7,
   "id": "10dad19b",
   "metadata": {},
   "outputs": [],
   "source": [
    "run = 30 "
   ]
  },
  {
   "cell_type": "markdown",
   "id": "2a5c46ae",
   "metadata": {},
   "source": [
    "Datasets (Considering the division of each signal in 5 excerpts): \n",
    "\n",
    "- Dataset 4: Dataset 4 makes use of the principal components obtained through principal component analysis on the selected features according to methodology A or B. \n",
    "\n",
    "\n",
    "- Dataset 5: Dataset 5 makes use of the features generated from the approach C2 (Seleção de features sobre a matriz completa(fear+happy+neutral):  Dataset_1_geral_feat_select_corr).\n",
    "\n",
    "\n",
    "- Dataset 6: Dataset 6 makes use of the features generated from the approach C1 (Seleção de features separadamente e união das features em matriz final: Dataset_1_features). "
   ]
  },
  {
   "cell_type": "markdown",
   "id": "82d3565a",
   "metadata": {},
   "source": [
    "### Dataset 4: "
   ]
  },
  {
   "cell_type": "code",
   "execution_count": null,
   "id": "bc543fea",
   "metadata": {},
   "outputs": [],
   "source": [
    "data = acess_data(filename='Dataset_2_pca_excerpts_2.xlsx',sheetname='Geral_EMG_EDA_ECG', signal=True)\n",
    "selected_feat = ['PC1','PC2','PC3','PC4','PC5','PC6','PC7','PC8','PC9','PC10','PC11','PC12','PC13','PC14','PC15','PC16']\n",
    "results_split2 = cross_validation (data, selected_feat, split1=False, split2=False, split3=True, split4=False,\n",
    "                                   test_size=0.25, X=run)"
   ]
  },
  {
   "cell_type": "code",
   "execution_count": null,
   "id": "d49a81ce",
   "metadata": {},
   "outputs": [],
   "source": [
    "# Grupo Geral_EMG: \n",
    "data = acess_data(filename='Dataset_2_pca_excerpts_2.xlsx',sheetname='Geral_EMG', signal=True)\n",
    "selected_feat = ['PC1','PC2','PC3','PC4','PC5','PC6','PC7','PC8']\n",
    "results_split2 = cross_validation (data, selected_feat, split1=False, split2=False, split3=True, split4=False,\n",
    "                                   test_size=0.25, X=run)"
   ]
  },
  {
   "cell_type": "code",
   "execution_count": null,
   "id": "24db0bd3",
   "metadata": {},
   "outputs": [],
   "source": [
    "# Grupo Geral_ECG: \n",
    "data = acess_data(filename='Dataset_2_pca_excerpts_2.xlsx',sheetname='Geral_ECG', signal=True)\n",
    "selected_feat = ['PC1','PC2','PC3','PC4','PC5','PC6','PC7','PC8','PC9','PC10','PC11','PC12']\n",
    "results_split2 = cross_validation (data, selected_feat, split1=False, split2=False, split3=True, split4=False,\n",
    "                                   test_size=0.25, X=run)"
   ]
  },
  {
   "cell_type": "code",
   "execution_count": null,
   "id": "d0d0ed67",
   "metadata": {},
   "outputs": [],
   "source": [
    "# Grupo Geral_EDA: \n",
    "data = acess_data(filename='Dataset_2_pca_excerpts_2.xlsx',sheetname='Geral_EDA', signal=True)\n",
    "selected_feat = ['PC1','PC2','PC3','PC4','PC5','PC6','PC7','PC8','PC9']\n",
    "results_split2 = cross_validation (data, selected_feat, split1=False, split2=False, split3=True, split4=False,\n",
    "                                   test_size=0.25, X=run)"
   ]
  },
  {
   "cell_type": "code",
   "execution_count": null,
   "id": "c07b3841",
   "metadata": {},
   "outputs": [],
   "source": [
    "# Grupo G1_EMG_ECG_EDA: \n",
    "data = acess_data(filename='Dataset_2_pca_excerpts_2.xlsx',sheetname='G1_EMG_EDA_ECG', signal=True)\n",
    "selected_feat = ['PC1','PC2','PC3']\n",
    "results_split2 = cross_validation (data, selected_feat, split1=False, split2=False, split3=True, split4=False,\n",
    "                                   test_size=0.25, X=run)"
   ]
  },
  {
   "cell_type": "code",
   "execution_count": null,
   "id": "f6550809",
   "metadata": {},
   "outputs": [],
   "source": [
    "# Grupo G1_EMG: \n",
    "data = acess_data(filename='Dataset_2_pca_excerpts_2.xlsx',sheetname='G1_EMG', signal=True)\n",
    "selected_feat = ['PC1','PC2','PC3']\n",
    "results_split2 = cross_validation (data, selected_feat, split1=False, split2=False, split3=True, split4=False,\n",
    "                                   test_size=0.25, X=run)"
   ]
  },
  {
   "cell_type": "code",
   "execution_count": null,
   "id": "7df4baad",
   "metadata": {},
   "outputs": [],
   "source": [
    "# Grupo G1_ECG: \n",
    "data = acess_data(filename='Dataset_2_pca_excerpts_2.xlsx',sheetname='G1_ECG', signal=True)\n",
    "selected_feat = ['PC1','PC2','PC3']\n",
    "results_split2 = cross_validation (data, selected_feat, split1=False, split2=False, split3=True, split4=False,\n",
    "                                   test_size=0.25, X=run)"
   ]
  },
  {
   "cell_type": "code",
   "execution_count": null,
   "id": "765bc34e",
   "metadata": {},
   "outputs": [],
   "source": [
    "# Grupo G1_EDA: \n",
    "data = acess_data(filename='Dataset_2_pca_excerpts_2.xlsx',sheetname='G1_EDA', signal=True)\n",
    "selected_feat = ['PC1','PC2','PC3']\n",
    "results_split2 = cross_validation (data, selected_feat, split1=False, split2=False, split3=True, split4=False,\n",
    "                                   test_size=0.25, X=run)"
   ]
  },
  {
   "cell_type": "code",
   "execution_count": null,
   "id": "f595d510",
   "metadata": {},
   "outputs": [],
   "source": [
    "# Grupo G2_EMG_ECG_EDA: \n",
    "data = acess_data(filename='Dataset_2_pca_excerpts_2.xlsx',sheetname='G2_EMG_EDA_ECG', signal=True)\n",
    "selected_feat = ['PC1','PC2','PC3','PC4']\n",
    "results_split2 = cross_validation (data, selected_feat, split1=False, split2=False, split3=True, split4=False,\n",
    "                                   test_size=0.25, X=run)"
   ]
  },
  {
   "cell_type": "code",
   "execution_count": null,
   "id": "a0dc4de6",
   "metadata": {},
   "outputs": [],
   "source": [
    "# Grupo G2_EMG: \n",
    "data = acess_data(filename='Dataset_2_pca_excerpts_2.xlsx',sheetname='G2_EMG', signal=True)\n",
    "selected_feat = ['PC1','PC2','PC3','PC4']\n",
    "results_split2 = cross_validation (data, selected_feat, split1=False, split2=False, split3=True, split4=False,\n",
    "                                   test_size=0.25, X=run)"
   ]
  },
  {
   "cell_type": "code",
   "execution_count": null,
   "id": "be1b6975",
   "metadata": {},
   "outputs": [],
   "source": [
    "# Grupo G2_ECG: \n",
    "data = acess_data(filename='Dataset_2_pca_excerpts_2.xlsx',sheetname='G2_ECG', signal=True)\n",
    "selected_feat = ['PC1','PC2','PC3','PC4']\n",
    "results_split2 = cross_validation (data, selected_feat, split1=False, split2=False, split3=True, split4=False,\n",
    "                                   test_size=0.25, X=run)"
   ]
  },
  {
   "cell_type": "code",
   "execution_count": null,
   "id": "afb6b53b",
   "metadata": {},
   "outputs": [],
   "source": [
    "# Grupo G2_EDA: \n",
    "data = acess_data(filename='Dataset_2_pca_excerpts_2.xlsx',sheetname='G2_EDA', signal=True)\n",
    "selected_feat = ['PC1','PC2','PC3','PC4']\n",
    "results_split2 = cross_validation (data, selected_feat, split1=False, split2=False, split3=True, split4=False,\n",
    "                                   test_size=0.25, X=run)"
   ]
  },
  {
   "cell_type": "code",
   "execution_count": null,
   "id": "f2d72fb0",
   "metadata": {},
   "outputs": [],
   "source": [
    "# Grupo G3_EMG_ECG_EDA: \n",
    "data = acess_data(filename='Dataset_2_pca_excerpts_2.xlsx',sheetname='G3_EMG_EDA_ECG', signal=True)\n",
    "selected_feat = ['PC1','PC2','PC3','PC4','PC5','PC6','PC7','PC8','PC9','PC10','PC11','PC12','PC13']\n",
    "results_split2 = cross_validation (data, selected_feat, split1=False, split2=False, split3=True, split4=False,\n",
    "                                   test_size=0.25, X=run)"
   ]
  },
  {
   "cell_type": "code",
   "execution_count": null,
   "id": "d89576e2",
   "metadata": {},
   "outputs": [],
   "source": [
    "# Grupo G3_EMG: \n",
    "data = acess_data(filename='Dataset_2_pca_excerpts_2.xlsx',sheetname='G3_EMG', signal=True)\n",
    "selected_feat = ['PC1','PC2','PC3','PC4','PC5','PC6','PC7']\n",
    "results_split2 = cross_validation (data, selected_feat, split1=False, split2=False, split3=True, split4=False,\n",
    "                                   test_size=0.25, X=run)"
   ]
  },
  {
   "cell_type": "code",
   "execution_count": null,
   "id": "c58f6ecd",
   "metadata": {},
   "outputs": [],
   "source": [
    "# Grupo G3_ECG: \n",
    "data = acess_data(filename='Dataset_2_pca_excerpts_2.xlsx',sheetname='G3_ECG', signal=True)\n",
    "selected_feat = ['PC1','PC2','PC3','PC4','PC5','PC6','PC7','PC8','PC9']\n",
    "results_split2 = cross_validation (data, selected_feat, split1=False, split2=False, split3=True, split4=False,\n",
    "                                   test_size=0.25, X=run)"
   ]
  },
  {
   "cell_type": "code",
   "execution_count": null,
   "id": "aeb38ba6",
   "metadata": {},
   "outputs": [],
   "source": [
    "# Grupo G3_EDA: \n",
    "data = acess_data(filename='Dataset_2_pca_excerpts_2.xlsx',sheetname='G3_EDA', signal=True)\n",
    "selected_feat = ['PC1','PC2','PC3','PC4','PC5','PC6','PC7','PC8']\n",
    "results_split2 = cross_validation (data, selected_feat, split1=False, split2=False, split3=True, split4=False,\n",
    "                                   test_size=0.25, X=run)"
   ]
  },
  {
   "cell_type": "markdown",
   "id": "fa79ea1a",
   "metadata": {},
   "source": [
    "### Dataset 5: "
   ]
  },
  {
   "cell_type": "code",
   "execution_count": null,
   "id": "dc3335b7",
   "metadata": {},
   "outputs": [],
   "source": [
    "# Global group & ECG+EMG+EDA features: \n",
    "data = acess_data(filename='Dataset_2_geral_feat_select_corr.xlsx',sheetname='Geral_ECG+EMG+EDA', signal=True)\n",
    "\n",
    "# Feature Selection with Recursive Feature Elimination with Cross-Validation (RFECV)\n",
    "X = data.iloc[:,3:] \n",
    "Y = data['Labels'] \n",
    "\n",
    "optimal_number_feat, optimal_selected_feat, range_feat, cross_val_score = recursive_feat_elimination (X, Y)\n",
    "\n",
    "results_split2 = cross_validation (data, optimal_selected_feat, split1=False, split2=False, split3=True, split4=False,\n",
    "                                   test_size=0.25, X=run)"
   ]
  },
  {
   "cell_type": "code",
   "execution_count": null,
   "id": "f5edd57d",
   "metadata": {},
   "outputs": [],
   "source": [
    "# Group G1 & ECG+EMG+EDA features: \n",
    "data = acess_data(filename='Dataset_2_geral_feat_select_corr.xlsx',sheetname='G1_ECG+EMG+EDA', signal=True)\n",
    "\n",
    "# Feature Selection with Recursive Feature Elimination with Cross-Validation (RFECV)\n",
    "X = data.iloc[:,3:] \n",
    "Y = data['Labels'] \n",
    "\n",
    "optimal_number_feat, optimal_selected_feat, range_feat, cross_val_score = recursive_feat_elimination (X, Y)\n",
    "\n",
    "results_split2 = cross_validation (data, optimal_selected_feat, split1=False, split2=False, split3=True, split4=False,\n",
    "                                   test_size=0.25, X=run)"
   ]
  },
  {
   "cell_type": "code",
   "execution_count": null,
   "id": "868f73cf",
   "metadata": {},
   "outputs": [],
   "source": [
    "# Group G2 & ECG+EMG+EDA features: \n",
    "data = acess_data(filename='Dataset_2_geral_feat_select_corr.xlsx',sheetname='G2_ECG+EMG+EDA', signal=True)\n",
    "\n",
    "# Feature Selection with Recursive Feature Elimination with Cross-Validation (RFECV)\n",
    "X = data.iloc[:,3:] \n",
    "Y = data['Labels'] \n",
    "\n",
    "optimal_number_feat, optimal_selected_feat, range_feat, cross_val_score = recursive_feat_elimination (X, Y)\n",
    "\n",
    "results_split2 = cross_validation (data, optimal_selected_feat, split1=False, split2=False, split3=True, split4=False,\n",
    "                                   test_size=0.25, X=run)"
   ]
  },
  {
   "cell_type": "code",
   "execution_count": null,
   "id": "1971a077",
   "metadata": {},
   "outputs": [],
   "source": [
    "# Group G3 & ECG+EMG+EDA features: \n",
    "data = acess_data(filename='Dataset_2_geral_feat_select_corr.xlsx',sheetname='G3_ECG+EMG+EDA', signal=True)\n",
    "\n",
    "# Feature Selection with Recursive Feature Elimination with Cross-Validation (RFECV)\n",
    "X = data.iloc[:,3:] \n",
    "Y = data['Labels'] \n",
    "\n",
    "optimal_number_feat, optimal_selected_feat, range_feat, cross_val_score = recursive_feat_elimination (X, Y)\n",
    "\n",
    "results_split2 = cross_validation (data, optimal_selected_feat, split1=False, split2=False, split3=True, split4=False,\n",
    "                                   test_size=0.25, X=run)"
   ]
  },
  {
   "cell_type": "code",
   "execution_count": null,
   "id": "bbbe5a30",
   "metadata": {},
   "outputs": [],
   "source": [
    "# Grupo Geral_EMG: \n",
    "data = acess_data(filename='Dataset_2_geral_feat_select_corr.xlsx',sheetname='Geral_EMG', signal=True)\n",
    "\n",
    "# Feature Selection with Recursive Feature Elimination with Cross-Validation (RFECV)\n",
    "X = data.iloc[:,3:] \n",
    "Y = data['Labels'] \n",
    "\n",
    "optimal_number_feat, optimal_selected_feat, range_feat, cross_val_score = recursive_feat_elimination (X, Y)\n",
    "\n",
    "results_split2 = cross_validation (data, optimal_selected_feat, split1=False, split2=False, split3=True, split4=False,\n",
    "                                   test_size=0.25, X=run)\n",
    "\n",
    "print(results_split2)"
   ]
  },
  {
   "cell_type": "code",
   "execution_count": null,
   "id": "fceb8698",
   "metadata": {},
   "outputs": [],
   "source": [
    "# Group G1 & EMG features: \n",
    "data = acess_data(filename='Dataset_2_geral_feat_select_corr.xlsx',sheetname='G1_EMG', signal=True)\n",
    "\n",
    "# Feature Selection with Recursive Feature Elimination with Cross-Validation (RFECV)\n",
    "X = data.iloc[:,3:] \n",
    "Y = data['Labels'] \n",
    "\n",
    "optimal_number_feat, optimal_selected_feat, range_feat, cross_val_score = recursive_feat_elimination (X, Y)\n",
    "\n",
    "#optimal_selected_feat = ['ECG_Rate_Mean','ECG_Rate_Skew','ECG_Rate_Kurt','ECG_Tduration_Mean','ECG_Tduration_Var','ECG_Tduration_Skew','ECG_Tduration_Kurt','HRV_TINN','HRV_MinNN','HRV_LFn','HRV_CSI_Modified','HRV_LF','HRV_PSS','HRV_PAS','HRV_GI','HRV_Ca','HRV_PI','HRV_MFDFA_alpha1_Peak', 'HRV_MFDFA_alpha1_Fluctuation','HRV_MFDFA_alpha1_Asymmetry','HRV_MFDFA_alpha1_Increment','HRV_MFDFA_alpha2_Width','HRV_MFDFA_alpha2_Peak','HRV_MFDFA_alpha2_Asymmetry','HRV_MFDFA_alpha2_Fluctuation','HRV_MFDFA_alpha2_Max','HRV_MFDFA_alpha2_Increment', 'HRV_RCMSEn','HRV_MSEn','HRV_KFD','HRV_CMSEn']                        \n",
    "\n",
    "results_split2 = cross_validation (data, optimal_selected_feat, split1=False, split2=False, split3=True, split4=False,\n",
    "                                   test_size=0.25, X=run)"
   ]
  },
  {
   "cell_type": "code",
   "execution_count": null,
   "id": "127e0066",
   "metadata": {},
   "outputs": [],
   "source": [
    "# Group G2 & EMG features: \n",
    "data = acess_data(filename='Dataset_2_geral_feat_select_corr.xlsx',sheetname='G2_EMG', signal=True)\n",
    "\n",
    "# Feature Selection with Recursive Feature Elimination with Cross-Validation (RFECV)\n",
    "X = data.iloc[:,3:] \n",
    "Y = data['Labels'] \n",
    "\n",
    "optimal_number_feat, optimal_selected_feat, range_feat, cross_val_score = recursive_feat_elimination (X, Y)\n",
    "\n",
    "#optimal_selected_feat = ['ECG_Rate_Mean','ECG_Rate_Skew','ECG_Rate_Kurt','ECG_Tduration_Mean','ECG_Tduration_Var','ECG_Tduration_Skew','ECG_Tduration_Kurt','HRV_TINN','HRV_MinNN','HRV_LFn','HRV_CSI_Modified','HRV_LF','HRV_PSS','HRV_PAS','HRV_GI','HRV_Ca','HRV_PI','HRV_MFDFA_alpha1_Peak', 'HRV_MFDFA_alpha1_Fluctuation','HRV_MFDFA_alpha1_Asymmetry','HRV_MFDFA_alpha1_Increment','HRV_MFDFA_alpha2_Width','HRV_MFDFA_alpha2_Peak','HRV_MFDFA_alpha2_Asymmetry','HRV_MFDFA_alpha2_Fluctuation','HRV_MFDFA_alpha2_Max','HRV_MFDFA_alpha2_Increment', 'HRV_RCMSEn','HRV_MSEn','HRV_KFD','HRV_CMSEn']                        \n",
    "\n",
    "results_split2 = cross_validation (data, optimal_selected_feat, split1=False, split2=False, split3=True, split4=False,\n",
    "                                   test_size=0.25, X=run)"
   ]
  },
  {
   "cell_type": "code",
   "execution_count": null,
   "id": "42371eb6",
   "metadata": {},
   "outputs": [],
   "source": [
    "# Group G3 & EMG features: \n",
    "data = acess_data(filename='Dataset_2_geral_feat_select_corr.xlsx',sheetname='G3_EMG', signal=True)\n",
    "\n",
    "# Feature Selection with Recursive Feature Elimination with Cross-Validation (RFECV)\n",
    "X = data.iloc[:,3:] \n",
    "Y = data['Labels'] \n",
    "\n",
    "optimal_number_feat, optimal_selected_feat, range_feat, cross_val_score = recursive_feat_elimination (X, Y)\n",
    "\n",
    "#optimal_selected_feat = ['ECG_Rate_Mean','ECG_Rate_Skew','ECG_Rate_Kurt','ECG_Tduration_Mean','ECG_Tduration_Var','ECG_Tduration_Skew','ECG_Tduration_Kurt','HRV_TINN','HRV_MinNN','HRV_LFn','HRV_CSI_Modified','HRV_LF','HRV_PSS','HRV_PAS','HRV_GI','HRV_Ca','HRV_PI','HRV_MFDFA_alpha1_Peak', 'HRV_MFDFA_alpha1_Fluctuation','HRV_MFDFA_alpha1_Asymmetry','HRV_MFDFA_alpha1_Increment','HRV_MFDFA_alpha2_Width','HRV_MFDFA_alpha2_Peak','HRV_MFDFA_alpha2_Asymmetry','HRV_MFDFA_alpha2_Fluctuation','HRV_MFDFA_alpha2_Max','HRV_MFDFA_alpha2_Increment', 'HRV_RCMSEn','HRV_MSEn','HRV_KFD','HRV_CMSEn']                        \n",
    "\n",
    "results_split2 = cross_validation (data, optimal_selected_feat, split1=False, split2=False, split3=True, split4=False,\n",
    "                                   test_size=0.25, X=run)"
   ]
  },
  {
   "cell_type": "code",
   "execution_count": null,
   "id": "5d1767df",
   "metadata": {},
   "outputs": [],
   "source": [
    "# Grupo Geral_EDA: \n",
    "data = acess_data(filename='Dataset_2_geral_feat_select_corr.xlsx',sheetname='Geral_EDA', signal=True)\n",
    "\n",
    "# Feature Selection with Recursive Feature Elimination with Cross-Validation (RFECV)\n",
    "X = data.iloc[:,3:] \n",
    "Y = data['Labels'] \n",
    "\n",
    "optimal_number_feat, optimal_selected_feat, range_feat, cross_val_score = recursive_feat_elimination (X, Y)\n",
    "optimal_selected_feat= ['EDA_Tonic_Mean', 'SCR_Amplitude_Var','SCR_RiseTime_Skew']\n",
    "results_split2 = cross_validation (data, optimal_selected_feat, split1=False, split2=False, split3=True, split4=False,\n",
    "                                   test_size=0.25, X=run)\n",
    "\n",
    "print(results_split2)"
   ]
  },
  {
   "cell_type": "code",
   "execution_count": null,
   "id": "ee7ab52f",
   "metadata": {},
   "outputs": [],
   "source": [
    "# Group G1 & EDA features: \n",
    "data = acess_data(filename='Dataset_2_geral_feat_select_corr.xlsx',sheetname='G1_EDA', signal=True)\n",
    "\n",
    "# Feature Selection with Recursive Feature Elimination with Cross-Validation (RFECV)\n",
    "X = data.iloc[:,3:] \n",
    "Y = data['Labels'] \n",
    "\n",
    "optimal_number_feat, optimal_selected_feat, range_feat, cross_val_score = recursive_feat_elimination (X, Y)\n",
    "\n",
    "#optimal_selected_feat = ['ECG_Rate_Mean','ECG_Rate_Skew','ECG_Rate_Kurt','ECG_Tduration_Mean','ECG_Tduration_Var','ECG_Tduration_Skew','ECG_Tduration_Kurt','HRV_TINN','HRV_MinNN','HRV_LFn','HRV_CSI_Modified','HRV_LF','HRV_PSS','HRV_PAS','HRV_GI','HRV_Ca','HRV_PI','HRV_MFDFA_alpha1_Peak', 'HRV_MFDFA_alpha1_Fluctuation','HRV_MFDFA_alpha1_Asymmetry','HRV_MFDFA_alpha1_Increment','HRV_MFDFA_alpha2_Width','HRV_MFDFA_alpha2_Peak','HRV_MFDFA_alpha2_Asymmetry','HRV_MFDFA_alpha2_Fluctuation','HRV_MFDFA_alpha2_Max','HRV_MFDFA_alpha2_Increment', 'HRV_RCMSEn','HRV_MSEn','HRV_KFD','HRV_CMSEn']                        \n",
    "\n",
    "results_split2 = cross_validation (data, optimal_selected_feat, split1=False, split2=False, split3=True, split4=False,\n",
    "                                   test_size=0.25, X=run)"
   ]
  },
  {
   "cell_type": "code",
   "execution_count": null,
   "id": "a8d349fb",
   "metadata": {},
   "outputs": [],
   "source": [
    "# Group G2 & EDA features: \n",
    "data = acess_data(filename='Dataset_2_geral_feat_select_corr.xlsx',sheetname='G2_EDA', signal=True)\n",
    "\n",
    "# Feature Selection with Recursive Feature Elimination with Cross-Validation (RFECV)\n",
    "X = data.iloc[:,3:] \n",
    "Y = data['Labels'] \n",
    "\n",
    "optimal_number_feat, optimal_selected_feat, range_feat, cross_val_score = recursive_feat_elimination (X, Y)\n",
    "\n",
    "#optimal_selected_feat = ['ECG_Rate_Mean','ECG_Rate_Skew','ECG_Rate_Kurt','ECG_Tduration_Mean','ECG_Tduration_Var','ECG_Tduration_Skew','ECG_Tduration_Kurt','HRV_TINN','HRV_MinNN','HRV_LFn','HRV_CSI_Modified','HRV_LF','HRV_PSS','HRV_PAS','HRV_GI','HRV_Ca','HRV_PI','HRV_MFDFA_alpha1_Peak', 'HRV_MFDFA_alpha1_Fluctuation','HRV_MFDFA_alpha1_Asymmetry','HRV_MFDFA_alpha1_Increment','HRV_MFDFA_alpha2_Width','HRV_MFDFA_alpha2_Peak','HRV_MFDFA_alpha2_Asymmetry','HRV_MFDFA_alpha2_Fluctuation','HRV_MFDFA_alpha2_Max','HRV_MFDFA_alpha2_Increment', 'HRV_RCMSEn','HRV_MSEn','HRV_KFD','HRV_CMSEn']                        \n",
    "\n",
    "results_split2 = cross_validation (data, optimal_selected_feat, split1=False, split2=False, split3=True, split4=False,\n",
    "                                   test_size=0.25, X=run)"
   ]
  },
  {
   "cell_type": "code",
   "execution_count": null,
   "id": "38f45160",
   "metadata": {},
   "outputs": [],
   "source": [
    "# Group G3 & EDA features: \n",
    "data = acess_data(filename='Dataset_2_geral_feat_select_corr.xlsx',sheetname='G3_EDA', signal=True)\n",
    "\n",
    "# Feature Selection with Recursive Feature Elimination with Cross-Validation (RFECV)\n",
    "X = data.iloc[:,3:] \n",
    "Y = data['Labels'] \n",
    "\n",
    "optimal_number_feat, optimal_selected_feat, range_feat, cross_val_score = recursive_feat_elimination (X, Y)\n",
    "\n",
    "#optimal_selected_feat = ['ECG_Rate_Mean','ECG_Rate_Skew','ECG_Rate_Kurt','ECG_Tduration_Mean','ECG_Tduration_Var','ECG_Tduration_Skew','ECG_Tduration_Kurt','HRV_TINN','HRV_MinNN','HRV_LFn','HRV_CSI_Modified','HRV_LF','HRV_PSS','HRV_PAS','HRV_GI','HRV_Ca','HRV_PI','HRV_MFDFA_alpha1_Peak', 'HRV_MFDFA_alpha1_Fluctuation','HRV_MFDFA_alpha1_Asymmetry','HRV_MFDFA_alpha1_Increment','HRV_MFDFA_alpha2_Width','HRV_MFDFA_alpha2_Peak','HRV_MFDFA_alpha2_Asymmetry','HRV_MFDFA_alpha2_Fluctuation','HRV_MFDFA_alpha2_Max','HRV_MFDFA_alpha2_Increment', 'HRV_RCMSEn','HRV_MSEn','HRV_KFD','HRV_CMSEn']                        \n",
    "\n",
    "results_split2 = cross_validation (data, optimal_selected_feat, split1=False, split2=False, split3=True, split4=False,\n",
    "                                   test_size=0.25, X=run)"
   ]
  },
  {
   "cell_type": "code",
   "execution_count": null,
   "id": "f3510aba",
   "metadata": {},
   "outputs": [],
   "source": [
    "# Grupo Geral_ECG: \n",
    "data = acess_data(filename='Dataset_2_geral_feat_select_corr.xlsx',sheetname='Geral_ECG', signal=True)\n",
    "\n",
    "# Feature Selection with Recursive Feature Elimination with Cross-Validation (RFECV)\n",
    "X = data.iloc[:,3:] \n",
    "Y = data['Labels'] \n",
    "\n",
    "optimal_number_feat, optimal_selected_feat, range_feat, cross_val_score = recursive_feat_elimination (X, Y)\n",
    "\n",
    "results_split2 = cross_validation (data, optimal_selected_feat, split1=False, split2=False, split3=True, split4=False,\n",
    "                                   test_size=0.25, X=run)\n",
    "\n",
    "print(results_split2)"
   ]
  },
  {
   "cell_type": "code",
   "execution_count": null,
   "id": "9b5e1141",
   "metadata": {},
   "outputs": [],
   "source": [
    "# Group G1 & ECG features: \n",
    "data = acess_data(filename='Dataset_2_geral_feat_select_corr.xlsx',sheetname='G1_ECG', signal=True)\n",
    "\n",
    "# Feature Selection with Recursive Feature Elimination with Cross-Validation (RFECV)\n",
    "X = data.iloc[:,3:] \n",
    "Y = data['Labels'] \n",
    "\n",
    "optimal_number_feat, optimal_selected_feat, range_feat, cross_val_score = recursive_feat_elimination (X, Y)\n",
    "\n",
    "#optimal_selected_feat = ['ECG_Rate_Mean','ECG_Rate_Skew','ECG_Rate_Kurt','ECG_Tduration_Mean','ECG_Tduration_Var','ECG_Tduration_Skew','ECG_Tduration_Kurt','HRV_TINN','HRV_MinNN','HRV_LFn','HRV_CSI_Modified','HRV_LF','HRV_PSS','HRV_PAS','HRV_GI','HRV_Ca','HRV_PI','HRV_MFDFA_alpha1_Peak', 'HRV_MFDFA_alpha1_Fluctuation','HRV_MFDFA_alpha1_Asymmetry','HRV_MFDFA_alpha1_Increment','HRV_MFDFA_alpha2_Width','HRV_MFDFA_alpha2_Peak','HRV_MFDFA_alpha2_Asymmetry','HRV_MFDFA_alpha2_Fluctuation','HRV_MFDFA_alpha2_Max','HRV_MFDFA_alpha2_Increment', 'HRV_RCMSEn','HRV_MSEn','HRV_KFD','HRV_CMSEn']                        \n",
    "\n",
    "results_split2 = cross_validation (data, optimal_selected_feat, split1=False, split2=False, split3=True, split4=False,\n",
    "                                   test_size=0.25, X=run)"
   ]
  },
  {
   "cell_type": "code",
   "execution_count": null,
   "id": "ea1bf614",
   "metadata": {},
   "outputs": [],
   "source": [
    "# Group G2 & ECG features: \n",
    "data = acess_data(filename='Dataset_2_geral_feat_select_corr.xlsx',sheetname='G2_ECG', signal=True)\n",
    "\n",
    "# Feature Selection with Recursive Feature Elimination with Cross-Validation (RFECV)\n",
    "X = data.iloc[:,3:] \n",
    "Y = data['Labels'] \n",
    "\n",
    "optimal_number_feat, optimal_selected_feat, range_feat, cross_val_score = recursive_feat_elimination (X, Y)\n",
    "\n",
    "#optimal_selected_feat = ['ECG_Rate_Mean','ECG_Rate_Skew','ECG_Rate_Kurt','ECG_Tduration_Mean','ECG_Tduration_Var','ECG_Tduration_Skew','ECG_Tduration_Kurt','HRV_TINN','HRV_MinNN','HRV_LFn','HRV_CSI_Modified','HRV_LF','HRV_PSS','HRV_PAS','HRV_GI','HRV_Ca','HRV_PI','HRV_MFDFA_alpha1_Peak', 'HRV_MFDFA_alpha1_Fluctuation','HRV_MFDFA_alpha1_Asymmetry','HRV_MFDFA_alpha1_Increment','HRV_MFDFA_alpha2_Width','HRV_MFDFA_alpha2_Peak','HRV_MFDFA_alpha2_Asymmetry','HRV_MFDFA_alpha2_Fluctuation','HRV_MFDFA_alpha2_Max','HRV_MFDFA_alpha2_Increment', 'HRV_RCMSEn','HRV_MSEn','HRV_KFD','HRV_CMSEn']                        \n",
    "\n",
    "results_split2 = cross_validation (data, optimal_selected_feat, split1=False, split2=False, split3=True, split4=False,\n",
    "                                   test_size=0.25, X=run)"
   ]
  },
  {
   "cell_type": "code",
   "execution_count": null,
   "id": "17b65290",
   "metadata": {},
   "outputs": [],
   "source": [
    "# Group G3 & ECG features: \n",
    "data = acess_data(filename='Dataset_2_geral_feat_select_corr.xlsx',sheetname='G3_ECG', signal=True)\n",
    "\n",
    "# Feature Selection with Recursive Feature Elimination with Cross-Validation (RFECV)\n",
    "X = data.iloc[:,3:] \n",
    "Y = data['Labels'] \n",
    "\n",
    "optimal_number_feat, optimal_selected_feat, range_feat, cross_val_score = recursive_feat_elimination (X, Y)\n",
    "\n",
    "#optimal_selected_feat = ['ECG_Rate_Mean','ECG_Rate_Skew','ECG_Rate_Kurt','ECG_Tduration_Mean','ECG_Tduration_Var','ECG_Tduration_Skew','ECG_Tduration_Kurt','HRV_TINN','HRV_MinNN','HRV_LFn','HRV_CSI_Modified','HRV_LF','HRV_PSS','HRV_PAS','HRV_GI','HRV_Ca','HRV_PI','HRV_MFDFA_alpha1_Peak', 'HRV_MFDFA_alpha1_Fluctuation','HRV_MFDFA_alpha1_Asymmetry','HRV_MFDFA_alpha1_Increment','HRV_MFDFA_alpha2_Width','HRV_MFDFA_alpha2_Peak','HRV_MFDFA_alpha2_Asymmetry','HRV_MFDFA_alpha2_Fluctuation','HRV_MFDFA_alpha2_Max','HRV_MFDFA_alpha2_Increment', 'HRV_RCMSEn','HRV_MSEn','HRV_KFD','HRV_CMSEn']                        \n",
    "\n",
    "results_split2 = cross_validation (data, optimal_selected_feat, split1=False, split2=False, split3=True, split4=False,\n",
    "                                   test_size=0.25, X=run)"
   ]
  },
  {
   "cell_type": "markdown",
   "id": "36deb684",
   "metadata": {},
   "source": [
    "### Dataset 6: "
   ]
  },
  {
   "cell_type": "code",
   "execution_count": null,
   "id": "e12b6038",
   "metadata": {},
   "outputs": [],
   "source": [
    "# Global group & ECG+EMG+EDA features: \n",
    "data = acess_data(filename='Dataset_2_features.xlsx',sheetname='Geral_ECG+EMG+EDA', signal=True)\n",
    "\n",
    "# Feature Selection with Recursive Feature Elimination with Cross-Validation (RFECV)\n",
    "X = data.iloc[:,3:] \n",
    "Y = data['Labels'] \n",
    "\n",
    "optimal_number_feat, optimal_selected_feat, range_feat, cross_val_score = recursive_feat_elimination (X, Y)\n",
    "\n",
    "results_split2 = cross_validation (data, optimal_selected_feat, split1=False, split2=False, split3=True, split4=False,\n",
    "                                   test_size=0.25, X=run)"
   ]
  },
  {
   "cell_type": "code",
   "execution_count": null,
   "id": "2f68c7bd",
   "metadata": {},
   "outputs": [],
   "source": [
    "# Group G1 & ECG+EMG+EDA features: \n",
    "data = acess_data(filename='Dataset_2_features.xlsx',sheetname='G1_ECG+EMG+EDA', signal=True)\n",
    "\n",
    "# Feature Selection with Recursive Feature Elimination with Cross-Validation (RFECV)\n",
    "X = data.iloc[:,3:] \n",
    "Y = data['Labels'] \n",
    "\n",
    "optimal_number_feat, optimal_selected_feat, range_feat, cross_val_score = recursive_feat_elimination (X, Y)\n",
    "+\n",
    "results_split2 = cross_validation (data, optimal_selected_feat, split1=False, split2=False, split3=True, split4=False,\n",
    "                                   test_size=0.25, X=run)"
   ]
  },
  {
   "cell_type": "code",
   "execution_count": null,
   "id": "67879bc1",
   "metadata": {},
   "outputs": [],
   "source": [
    "# Group G2 & ECG+EMG+EDA features: \n",
    "data = acess_data(filename='Dataset_2_features.xlsx',sheetname='G2_ECG+EMG+EDA', signal=True)\n",
    "\n",
    "# Feature Selection with Recursive Feature Elimination with Cross-Validation (RFECV)\n",
    "X = data.iloc[:,3:] \n",
    "Y = data['Labels'] \n",
    "\n",
    "optimal_number_feat, optimal_selected_feat, range_feat, cross_val_score = recursive_feat_elimination (X, Y)\n",
    "\n",
    "results_split2 = cross_validation (data, optimal_selected_feat, split1=False, split2=False, split3=True, split4=False,\n",
    "                                   test_size=0.25, X=run)"
   ]
  },
  {
   "cell_type": "code",
   "execution_count": null,
   "id": "62a4b7a7",
   "metadata": {},
   "outputs": [],
   "source": [
    "# Group G3 & ECG+EMG+EDA features: \n",
    "data = acess_data(filename='Dataset_2_features.xlsx',sheetname='G3_ECG+EMG+EDA', signal=True)\n",
    "\n",
    "# Feature Selection with Recursive Feature Elimination with Cross-Validation (RFECV)\n",
    "X = data.iloc[:,3:] \n",
    "Y = data['Labels'] \n",
    "\n",
    "optimal_number_feat, optimal_selected_feat, range_feat, cross_val_score = recursive_feat_elimination (X, Y)\n",
    "\n",
    "results_split2 = cross_validation (data, optimal_selected_feat, split1=False, split2=False, split3=True, split4=False,\n",
    "                                   test_size=0.25, X=run)"
   ]
  },
  {
   "cell_type": "code",
   "execution_count": null,
   "id": "26276071",
   "metadata": {},
   "outputs": [],
   "source": [
    "# Global group & EMG features: \n",
    "data = acess_data(filename='Dataset_2_features.xlsx',sheetname='Geral_EMG', signal=True)\n",
    "\n",
    "# Feature Selection with Recursive Feature Elimination with Cross-Validation (RFECV)\n",
    "X = data.iloc[:,3:] \n",
    "Y = data['Labels'] \n",
    "\n",
    "optimal_number_feat, optimal_selected_feat, range_feat, cross_val_score = recursive_feat_elimination (X, Y)\n",
    "\n",
    "results_split2 = cross_validation (data, optimal_selected_feat, split1=False, split2=False, split3=True, split4=False,\n",
    "                                   test_size=0.25, X=run)"
   ]
  },
  {
   "cell_type": "code",
   "execution_count": null,
   "id": "9a89a0b8",
   "metadata": {},
   "outputs": [],
   "source": [
    "# Group G1 & EMG features: \n",
    "data = acess_data(filename='Dataset_2_features.xlsx',sheetname='G1_EMG', signal=True)\n",
    "\n",
    "# Feature Selection with Recursive Feature Elimination with Cross-Validation (RFECV)\n",
    "X = data.iloc[:,3:] \n",
    "Y = data['Labels'] \n",
    "\n",
    "optimal_number_feat, optimal_selected_feat, range_feat, cross_val_score = recursive_feat_elimination (X, Y)\n",
    "\n",
    "#optimal_selected_feat = ['ECG_Rate_Mean','ECG_Rate_Skew','ECG_Rate_Kurt','ECG_Tduration_Mean','ECG_Tduration_Var','ECG_Tduration_Skew','ECG_Tduration_Kurt','HRV_TINN','HRV_MinNN','HRV_LFn','HRV_CSI_Modified','HRV_LF','HRV_PSS','HRV_PAS','HRV_GI','HRV_Ca','HRV_PI','HRV_MFDFA_alpha1_Peak', 'HRV_MFDFA_alpha1_Fluctuation','HRV_MFDFA_alpha1_Asymmetry','HRV_MFDFA_alpha1_Increment','HRV_MFDFA_alpha2_Width','HRV_MFDFA_alpha2_Peak','HRV_MFDFA_alpha2_Asymmetry','HRV_MFDFA_alpha2_Fluctuation','HRV_MFDFA_alpha2_Max','HRV_MFDFA_alpha2_Increment', 'HRV_RCMSEn','HRV_MSEn','HRV_KFD','HRV_CMSEn']                        \n",
    "\n",
    "results_split2 = cross_validation (data, optimal_selected_feat, split1=False, split2=False, split3=True, split4=False,\n",
    "                                   test_size=0.25, X=run)"
   ]
  },
  {
   "cell_type": "code",
   "execution_count": null,
   "id": "268b7ebf",
   "metadata": {},
   "outputs": [],
   "source": [
    "# Group G2 & EMG features: \n",
    "data = acess_data(filename='Dataset_2_features.xlsx',sheetname='G2_EMG', signal=True)\n",
    "\n",
    "# Feature Selection with Recursive Feature Elimination with Cross-Validation (RFECV)\n",
    "X = data.iloc[:,3:] \n",
    "Y = data['Labels'] \n",
    "\n",
    "optimal_number_feat, optimal_selected_feat, range_feat, cross_val_score = recursive_feat_elimination (X, Y)\n",
    "\n",
    "#optimal_selected_feat = ['ECG_Rate_Mean','ECG_Rate_Skew','ECG_Rate_Kurt','ECG_Tduration_Mean','ECG_Tduration_Var','ECG_Tduration_Skew','ECG_Tduration_Kurt','HRV_TINN','HRV_MinNN','HRV_LFn','HRV_CSI_Modified','HRV_LF','HRV_PSS','HRV_PAS','HRV_GI','HRV_Ca','HRV_PI','HRV_MFDFA_alpha1_Peak', 'HRV_MFDFA_alpha1_Fluctuation','HRV_MFDFA_alpha1_Asymmetry','HRV_MFDFA_alpha1_Increment','HRV_MFDFA_alpha2_Width','HRV_MFDFA_alpha2_Peak','HRV_MFDFA_alpha2_Asymmetry','HRV_MFDFA_alpha2_Fluctuation','HRV_MFDFA_alpha2_Max','HRV_MFDFA_alpha2_Increment', 'HRV_RCMSEn','HRV_MSEn','HRV_KFD','HRV_CMSEn']                        \n",
    "\n",
    "results_split2 = cross_validation (data, optimal_selected_feat, split1=False, split2=False, split3=True, split4=False,\n",
    "                                   test_size=0.25, X=run)"
   ]
  },
  {
   "cell_type": "code",
   "execution_count": null,
   "id": "c193d8b6",
   "metadata": {},
   "outputs": [],
   "source": [
    "# Group G3 & EMG features: \n",
    "data = acess_data(filename='Dataset_2_features.xlsx',sheetname='G3_EMG', signal=True)\n",
    "\n",
    "# Feature Selection with Recursive Feature Elimination with Cross-Validation (RFECV)\n",
    "X = data.iloc[:,3:] \n",
    "Y = data['Labels'] \n",
    "\n",
    "optimal_number_feat, optimal_selected_feat, range_feat, cross_val_score = recursive_feat_elimination (X, Y)\n",
    "\n",
    "#optimal_selected_feat = ['ECG_Rate_Mean','ECG_Rate_Skew','ECG_Rate_Kurt','ECG_Tduration_Mean','ECG_Tduration_Var','ECG_Tduration_Skew','ECG_Tduration_Kurt','HRV_TINN','HRV_MinNN','HRV_LFn','HRV_CSI_Modified','HRV_LF','HRV_PSS','HRV_PAS','HRV_GI','HRV_Ca','HRV_PI','HRV_MFDFA_alpha1_Peak', 'HRV_MFDFA_alpha1_Fluctuation','HRV_MFDFA_alpha1_Asymmetry','HRV_MFDFA_alpha1_Increment','HRV_MFDFA_alpha2_Width','HRV_MFDFA_alpha2_Peak','HRV_MFDFA_alpha2_Asymmetry','HRV_MFDFA_alpha2_Fluctuation','HRV_MFDFA_alpha2_Max','HRV_MFDFA_alpha2_Increment', 'HRV_RCMSEn','HRV_MSEn','HRV_KFD','HRV_CMSEn']                        \n",
    "\n",
    "results_split2 = cross_validation (data, optimal_selected_feat, split1=False, split2=False, split3=True, split4=False,\n",
    "                                   test_size=0.25, X=run)"
   ]
  },
  {
   "cell_type": "code",
   "execution_count": null,
   "id": "7074b5ca",
   "metadata": {},
   "outputs": [],
   "source": [
    "# Global group & EDA features: \n",
    "data = acess_data(filename='Dataset_2_features.xlsx',sheetname='Geral_EDA', signal=True)\n",
    "\n",
    "# Feature Selection with Recursive Feature Elimination with Cross-Validation (RFECV)\n",
    "X = data.iloc[:,3:] \n",
    "Y = data['Labels'] \n",
    "\n",
    "optimal_number_feat, optimal_selected_feat, range_feat, cross_val_score = recursive_feat_elimination (X, Y)\n",
    "\n",
    "results_split2 = cross_validation (data, optimal_selected_feat, split1=False, split2=False, split3=True, split4=False,\n",
    "                                   test_size=0.25, X=run)"
   ]
  },
  {
   "cell_type": "code",
   "execution_count": null,
   "id": "83f695d1",
   "metadata": {},
   "outputs": [],
   "source": [
    "# Group G1 & EDA features: \n",
    "data = acess_data(filename='Dataset_2_features.xlsx',sheetname='G1_EDA', signal=True)\n",
    "\n",
    "# Feature Selection with Recursive Feature Elimination with Cross-Validation (RFECV)\n",
    "X = data.iloc[:,3:] \n",
    "Y = data['Labels'] \n",
    "\n",
    "optimal_number_feat, optimal_selected_feat, range_feat, cross_val_score = recursive_feat_elimination (X, Y)\n",
    "\n",
    "#optimal_selected_feat = ['ECG_Rate_Mean','ECG_Rate_Skew','ECG_Rate_Kurt','ECG_Tduration_Mean','ECG_Tduration_Var','ECG_Tduration_Skew','ECG_Tduration_Kurt','HRV_TINN','HRV_MinNN','HRV_LFn','HRV_CSI_Modified','HRV_LF','HRV_PSS','HRV_PAS','HRV_GI','HRV_Ca','HRV_PI','HRV_MFDFA_alpha1_Peak', 'HRV_MFDFA_alpha1_Fluctuation','HRV_MFDFA_alpha1_Asymmetry','HRV_MFDFA_alpha1_Increment','HRV_MFDFA_alpha2_Width','HRV_MFDFA_alpha2_Peak','HRV_MFDFA_alpha2_Asymmetry','HRV_MFDFA_alpha2_Fluctuation','HRV_MFDFA_alpha2_Max','HRV_MFDFA_alpha2_Increment', 'HRV_RCMSEn','HRV_MSEn','HRV_KFD','HRV_CMSEn']                        \n",
    "\n",
    "results_split2 = cross_validation (data, optimal_selected_feat, split1=False, split2=False, split3=True, split4=False,\n",
    "                                   test_size=0.25, X=run)"
   ]
  },
  {
   "cell_type": "code",
   "execution_count": null,
   "id": "174788b3",
   "metadata": {},
   "outputs": [],
   "source": [
    "# Group G2 & EDA features: \n",
    "data = acess_data(filename='Dataset_2_features.xlsx',sheetname='G2_EDA', signal=True)\n",
    "\n",
    "# Feature Selection with Recursive Feature Elimination with Cross-Validation (RFECV)\n",
    "X = data.iloc[:,3:] \n",
    "Y = data['Labels'] \n",
    "\n",
    "optimal_number_feat, optimal_selected_feat, range_feat, cross_val_score = recursive_feat_elimination (X, Y)\n",
    "\n",
    "#optimal_selected_feat = ['ECG_Rate_Mean','ECG_Rate_Skew','ECG_Rate_Kurt','ECG_Tduration_Mean','ECG_Tduration_Var','ECG_Tduration_Skew','ECG_Tduration_Kurt','HRV_TINN','HRV_MinNN','HRV_LFn','HRV_CSI_Modified','HRV_LF','HRV_PSS','HRV_PAS','HRV_GI','HRV_Ca','HRV_PI','HRV_MFDFA_alpha1_Peak', 'HRV_MFDFA_alpha1_Fluctuation','HRV_MFDFA_alpha1_Asymmetry','HRV_MFDFA_alpha1_Increment','HRV_MFDFA_alpha2_Width','HRV_MFDFA_alpha2_Peak','HRV_MFDFA_alpha2_Asymmetry','HRV_MFDFA_alpha2_Fluctuation','HRV_MFDFA_alpha2_Max','HRV_MFDFA_alpha2_Increment', 'HRV_RCMSEn','HRV_MSEn','HRV_KFD','HRV_CMSEn']                        \n",
    "\n",
    "results_split2 = cross_validation (data, optimal_selected_feat, split1=False, split2=False, split3=True, split4=False,\n",
    "                                   test_size=0.25, X=run)"
   ]
  },
  {
   "cell_type": "code",
   "execution_count": null,
   "id": "ca9bdb6d",
   "metadata": {},
   "outputs": [],
   "source": [
    "# Group G3 & EDA features: \n",
    "data = acess_data(filename='Dataset_2_features.xlsx',sheetname='G3_EDA', signal=True)\n",
    "\n",
    "# Feature Selection with Recursive Feature Elimination with Cross-Validation (RFECV)\n",
    "X = data.iloc[:,3:] \n",
    "Y = data['Labels'] \n",
    "\n",
    "optimal_number_feat, optimal_selected_feat, range_feat, cross_val_score = recursive_feat_elimination (X, Y)\n",
    "\n",
    "#optimal_selected_feat = ['ECG_Rate_Mean','ECG_Rate_Skew','ECG_Rate_Kurt','ECG_Tduration_Mean','ECG_Tduration_Var','ECG_Tduration_Skew','ECG_Tduration_Kurt','HRV_TINN','HRV_MinNN','HRV_LFn','HRV_CSI_Modified','HRV_LF','HRV_PSS','HRV_PAS','HRV_GI','HRV_Ca','HRV_PI','HRV_MFDFA_alpha1_Peak', 'HRV_MFDFA_alpha1_Fluctuation','HRV_MFDFA_alpha1_Asymmetry','HRV_MFDFA_alpha1_Increment','HRV_MFDFA_alpha2_Width','HRV_MFDFA_alpha2_Peak','HRV_MFDFA_alpha2_Asymmetry','HRV_MFDFA_alpha2_Fluctuation','HRV_MFDFA_alpha2_Max','HRV_MFDFA_alpha2_Increment', 'HRV_RCMSEn','HRV_MSEn','HRV_KFD','HRV_CMSEn']                        \n",
    "\n",
    "results_split2 = cross_validation (data, optimal_selected_feat, split1=False, split2=False, split3=True, split4=False,\n",
    "                                   test_size=0.25, X=run)"
   ]
  },
  {
   "cell_type": "code",
   "execution_count": null,
   "id": "a4df728b",
   "metadata": {},
   "outputs": [],
   "source": [
    "# Global group & ECG features: \n",
    "data = acess_data(filename='Dataset_2_features.xlsx',sheetname='Geral_ECG', signal=True)\n",
    "\n",
    "# Feature Selection with Recursive Feature Elimination with Cross-Validation (RFECV)\n",
    "X = data.iloc[:,3:] \n",
    "Y = data['Labels'] \n",
    "\n",
    "optimal_number_feat, optimal_selected_feat, range_feat, cross_val_score = recursive_feat_elimination (X, Y)\n",
    "\n",
    "results_split2 = cross_validation (data, optimal_selected_feat, split1=False, split2=False, split3=True, split4=False,\n",
    "                                   test_size=0.25, X=run)"
   ]
  },
  {
   "cell_type": "code",
   "execution_count": null,
   "id": "e607a40d",
   "metadata": {},
   "outputs": [],
   "source": [
    "# Group G1 & ECG features: \n",
    "data = acess_data(filename='Dataset_2_features.xlsx',sheetname='G1_ECG', signal=True)\n",
    "\n",
    "# Feature Selection with Recursive Feature Elimination with Cross-Validation (RFECV)\n",
    "X = data.iloc[:,3:] \n",
    "Y = data['Labels'] \n",
    "\n",
    "#optimal_number_feat, optimal_selected_feat, range_feat, cross_val_score = recursive_feat_elimination (X, Y)\n",
    "\n",
    "optimal_selected_feat = ['ECG_Rate_Mean','ECG_Rate_Skew','ECG_Rate_Kurt','ECG_Tduration_Mean','ECG_Tduration_Var','ECG_Tduration_Skew','ECG_Tduration_Kurt','HRV_TINN','HRV_MinNN','HRV_LFn','HRV_CSI_Modified','HRV_LF','HRV_PSS','HRV_PAS','HRV_GI','HRV_Ca','HRV_PI','HRV_MFDFA_alpha1_Peak', 'HRV_MFDFA_alpha1_Fluctuation','HRV_MFDFA_alpha1_Asymmetry','HRV_MFDFA_alpha1_Increment','HRV_MFDFA_alpha2_Width','HRV_MFDFA_alpha2_Peak','HRV_MFDFA_alpha2_Asymmetry','HRV_MFDFA_alpha2_Fluctuation','HRV_MFDFA_alpha2_Max','HRV_MFDFA_alpha2_Increment', 'HRV_RCMSEn','HRV_MSEn','HRV_KFD','HRV_CMSEn']                        \n",
    "\n",
    "results_split2 = cross_validation (data, optimal_selected_feat, split1=False, split2=False, split3=True, split4=False,\n",
    "                                   test_size=0.25, X=run)"
   ]
  },
  {
   "cell_type": "code",
   "execution_count": null,
   "id": "129d0a80",
   "metadata": {},
   "outputs": [],
   "source": [
    "# Group G2 & ECG features: \n",
    "data = acess_data(filename='Dataset_2_features.xlsx',sheetname='G2_ECG', signal=True)\n",
    "\n",
    "# Feature Selection with Recursive Feature Elimination with Cross-Validation (RFECV)\n",
    "X = data.iloc[:,3:] \n",
    "Y = data['Labels'] \n",
    "\n",
    "optimal_number_feat, optimal_selected_feat, range_feat, cross_val_score = recursive_feat_elimination (X, Y)\n",
    "\n",
    "#optimal_selected_feat = ['ECG_Rate_Mean','ECG_Rate_Skew','ECG_Rate_Kurt','ECG_Tduration_Mean','ECG_Tduration_Var','ECG_Tduration_Skew','ECG_Tduration_Kurt','HRV_TINN','HRV_MinNN','HRV_LFn','HRV_CSI_Modified','HRV_LF','HRV_PSS','HRV_PAS','HRV_GI','HRV_Ca','HRV_PI','HRV_MFDFA_alpha1_Peak', 'HRV_MFDFA_alpha1_Fluctuation','HRV_MFDFA_alpha1_Asymmetry','HRV_MFDFA_alpha1_Increment','HRV_MFDFA_alpha2_Width','HRV_MFDFA_alpha2_Peak','HRV_MFDFA_alpha2_Asymmetry','HRV_MFDFA_alpha2_Fluctuation','HRV_MFDFA_alpha2_Max','HRV_MFDFA_alpha2_Increment', 'HRV_RCMSEn','HRV_MSEn','HRV_KFD','HRV_CMSEn']                        \n",
    "\n",
    "results_split2 = cross_validation (data, optimal_selected_feat, split1=False, split2=False, split3=True, split4=False,\n",
    "                                   test_size=0.25, X=run)"
   ]
  },
  {
   "cell_type": "code",
   "execution_count": null,
   "id": "2557ff41",
   "metadata": {},
   "outputs": [],
   "source": [
    "# Group G3 & ECG features: \n",
    "data = acess_data(filename='Dataset_2_features.xlsx',sheetname='G3_ECG', signal=True)\n",
    "\n",
    "# Feature Selection with Recursive Feature Elimination with Cross-Validation (RFECV)\n",
    "X = data.iloc[:,3:] \n",
    "Y = data['Labels'] \n",
    "\n",
    "optimal_number_feat, optimal_selected_feat, range_feat, cross_val_score = recursive_feat_elimination (X, Y)\n",
    "\n",
    "#optimal_selected_feat = ['ECG_Rate_Mean','ECG_Rate_Skew','ECG_Rate_Kurt','ECG_Tduration_Mean','ECG_Tduration_Var','ECG_Tduration_Skew','ECG_Tduration_Kurt','HRV_TINN','HRV_MinNN','HRV_LFn','HRV_CSI_Modified','HRV_LF','HRV_PSS','HRV_PAS','HRV_GI','HRV_Ca','HRV_PI','HRV_MFDFA_alpha1_Peak', 'HRV_MFDFA_alpha1_Fluctuation','HRV_MFDFA_alpha1_Asymmetry','HRV_MFDFA_alpha1_Increment','HRV_MFDFA_alpha2_Width','HRV_MFDFA_alpha2_Peak','HRV_MFDFA_alpha2_Asymmetry','HRV_MFDFA_alpha2_Fluctuation','HRV_MFDFA_alpha2_Max','HRV_MFDFA_alpha2_Increment', 'HRV_RCMSEn','HRV_MSEn','HRV_KFD','HRV_CMSEn']                        \n",
    "\n",
    "results_split2 = cross_validation (data, optimal_selected_feat, split1=False, split2=False, split3=True, split4=False,\n",
    "                                   test_size=0.25, X=run)"
   ]
  }
 ],
 "metadata": {
  "kernelspec": {
   "display_name": "Python 3 (ipykernel)",
   "language": "python",
   "name": "python3"
  },
  "language_info": {
   "codemirror_mode": {
    "name": "ipython",
    "version": 3
   },
   "file_extension": ".py",
   "mimetype": "text/x-python",
   "name": "python",
   "nbconvert_exporter": "python",
   "pygments_lexer": "ipython3",
   "version": "3.9.12"
  }
 },
 "nbformat": 4,
 "nbformat_minor": 5
}
