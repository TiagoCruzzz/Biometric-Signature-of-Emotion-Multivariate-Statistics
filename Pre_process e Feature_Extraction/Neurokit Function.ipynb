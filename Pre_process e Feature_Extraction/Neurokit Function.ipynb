{
 "cells": [
  {
   "cell_type": "code",
   "execution_count": 3,
   "metadata": {},
   "outputs": [],
   "source": [
    "import neurokit2 as nk\n",
    "import pandas as pd\n",
    "from scipy.stats import skew, kurtosis\n",
    "import numpy as np"
   ]
  },
  {
   "cell_type": "code",
   "execution_count": 4,
   "metadata": {},
   "outputs": [],
   "source": [
    "import pickle\n",
    "dict_emotion = pickle.load(open('dict_emotion_file', 'rb'))"
   ]
  },
  {
   "cell_type": "code",
   "execution_count": 7,
   "metadata": {},
   "outputs": [],
   "source": [
    "sampling_rate=1000"
   ]
  },
  {
   "cell_type": "code",
   "execution_count": 11,
   "metadata": {},
   "outputs": [],
   "source": [
    "signal=dict_emotion['Happy'][0]['C026'][:,0]"
   ]
  },
  {
   "cell_type": "code",
   "execution_count": 12,
   "metadata": {},
   "outputs": [],
   "source": [
    "clean = nk.emg_clean(signal,sampling_rate=sampling_rate)\n",
    "amplitude = nk.emg_amplitude(clean)"
   ]
  },
  {
   "cell_type": "code",
   "execution_count": 13,
   "metadata": {},
   "outputs": [
    {
     "data": {
      "text/plain": [
       "607963"
      ]
     },
     "execution_count": 13,
     "metadata": {},
     "output_type": "execute_result"
    }
   ],
   "source": [
    "len(clean)"
   ]
  },
  {
   "cell_type": "code",
   "execution_count": 42,
   "metadata": {},
   "outputs": [],
   "source": [
    "activity, info_act = nk.emg_activation(emg_cleaned=clean[0:606905],sampling_rate=sampling_rate,method='biosppy')"
   ]
  },
  {
   "cell_type": "markdown",
   "metadata": {},
   "source": [
    "### Pre-processing"
   ]
  },
  {
   "cell_type": "code",
   "execution_count": 9,
   "metadata": {},
   "outputs": [],
   "source": [
    "def signal_process (signal, label, sampling_rate, a):\n",
    "    \n",
    "    if label == 'EMG':\n",
    "        clean = nk.emg_clean(signal,sampling_rate=sampling_rate)\n",
    "        amplitude = nk.emg_amplitude(clean)\n",
    "        activity, info_act = nk.emg_activation(emg_cleaned=clean[0:a],sampling_rate=sampling_rate,method='biosppy')\n",
    "        \n",
    "        # Duration of Activity, Max peak of activity, Mean peaks of activity\n",
    "        duration_activity=[]\n",
    "        peak_activity=[]\n",
    "        mean_activity=[]\n",
    "        area_activity=[]\n",
    "        amplitude_activity=[]\n",
    "        for i in range(0,len(info_act['EMG_Offsets'])):\n",
    "            duration=(info_act['EMG_Offsets'][i]-info_act['EMG_Onsets'][i])/sampling_rate # in seconds\n",
    "            peak=max(amplitude[info_act['EMG_Onsets'][i]:info_act['EMG_Offsets'][i]])\n",
    "            mean=np.mean(amplitude[info_act['EMG_Onsets'][i]:info_act['EMG_Offsets'][i]])\n",
    "            area=np.trapz(amplitude[info_act['EMG_Onsets'][i]:info_act['EMG_Offsets'][i]])            \n",
    "            duration_activity.append(duration) #The duration of the muscle activity\n",
    "            peak_activity.append(peak) #The maximum peak of the muscle activity\n",
    "            mean_activity.append(mean) #The mean of peaks of the muscle activity\n",
    "            area_activity.append(area) #The area of muscle activity\n",
    "            amplitude_activity.append(amplitude[info_act['EMG_Onsets'][i]:info_act['EMG_Offsets'][i]]) # redundante\n",
    "        \n",
    "       \n",
    "        amplitude_activity = [item for sublist in amplitude_activity for item in sublist]\n",
    "    \n",
    "        return duration_activity, peak_activity, mean_activity, area_activity, amplitude_activity\n",
    "                    \n",
    "    elif label == 'EDA':\n",
    "        eda_feat, info_eda=nk.eda_process(eda_signal=signal, sampling_rate=sampling_rate)\n",
    "        eda_symp = nk.eda_sympathetic(eda_feat['EDA_Raw'],sampling_rate=sampling_rate,frequency_band=[0.045,0.25],method='posada')\n",
    "        #raw_signal=eda_feat['EDA_Raw']\n",
    "        eda_tonic = eda_feat['EDA_Tonic'] # The tonic component of eda\n",
    "        eda_phasic = eda_feat['EDA_Phasic'] # The phasic component of eda\n",
    "        scr_height=info_eda['SCR_Height'] #The SCR amplitude including tonic component\n",
    "        scr_amplitude=info_eda['SCR_Amplitude'] #The SCR amplitude excluding tonic component\n",
    "        scr_risetime=info_eda['SCR_RiseTime'] #The time is taken for SCR onset to reach peak amplitude\n",
    "        scr_recoverytime=info_eda['SCR_RecoveryTime'] #The time it takes for SCR to decrease to half amplitude.\n",
    "        \n",
    "        return eda_symp, scr_height, scr_amplitude, scr_risetime, scr_recoverytime, eda_tonic, eda_phasic\n",
    "        \n",
    "    elif label == 'ECG':\n",
    "        ecg_clean = nk.ecg_clean(signal,sampling_rate=sampling_rate)\n",
    "        ecg_Rpeaks, info_Rpeaks = nk.ecg_peaks(ecg_clean,sampling_rate=sampling_rate) #signal to ecg_clean\n",
    "        #peaks_cwt=nk.ecg_delineate(ecg_clean, info_peaks['ECG_R_Peaks'], sampling_rate, method='cwt')\n",
    "        #peaks_dwt=nk.ecg_delineate(ecg_clean, info_peaks['ECG_R_Peaks'], sampling_rate, method='dwt')\n",
    "        ecg_peaks, info_peaks = nk.ecg_delineate(ecg_clean, info_Rpeaks['ECG_R_Peaks'], sampling_rate)\n",
    "        ecg_rate = nk.ecg_rate(ecg_Rpeaks, sampling_rate=sampling_rate)\n",
    "        \n",
    "        t_duration=[]\n",
    "        for i in range(0,len(info_peaks['ECG_T_Offsets'])):\n",
    "            duration=(info_peaks['ECG_T_Offsets'][i]-info_peaks['ECG_T_Peaks'][i])/1000 # in seconds\n",
    "            t_duration.append(duration) #The duration between the T peak and the offset\n",
    "           \n",
    "        return ecg_Rpeaks, ecg_rate, t_duration\n",
    "    "
   ]
  },
  {
   "cell_type": "markdown",
   "metadata": {},
   "source": [
    "### Feature Extraction"
   ]
  },
  {
   "cell_type": "code",
   "execution_count": 47,
   "metadata": {},
   "outputs": [],
   "source": [
    "def feature_extraction (dic, label, sampling_rate):\n",
    "    \n",
    "    if label == 'EMG_MF':\n",
    "        mean_dur, standard_deviation_dur, variance_dur, skewness_dur, kurtis_dur = statistics (dic['MF_duration_activity'])\n",
    "        mean_peak, standard_deviation_peak, variance_peak, skewness_peak, kurtis_peak = statistics (dic['MF_peak_activity'])\n",
    "        mean_act, standard_deviation_act, variance_act, skewness_act, kurtis_act = statistics (dic['MF_mean_activity'])\n",
    "        mean_amp, standard_deviation_amp, variance_amp, skewness_amp, kurtis_amp = statistics (dic['MF_amplitude_activity'])\n",
    "        mean_area, standard_deviation_area, variance_area, skewness_area, kurtis_area = statistics (dic['MF_area_activity'])\n",
    "        \n",
    "        EMG_Activations_N=len(dic['MF_duration_activity'])\n",
    "                \n",
    "        features_emg=pd.DataFrame({'EMG_MF_Activations_N':[EMG_Activations_N],\n",
    "                                   'EMG_MF_Duration_Mean':[mean_dur],'EMG_MF_Duration_Std':[standard_deviation_dur],\n",
    "                                   'EMG_MF_Duration_Var':[variance_dur],'EMG_MF_Duration_Skew':[skewness_dur],\n",
    "                                   'EMG_MF_Duration_Kurt':[kurtis_dur],\n",
    "                                   'EMG_MF_MaxPeakAct_Mean':[mean_peak],'EMG_MF_MaxPeakAct_Std':[standard_deviation_peak],\n",
    "                                   'EMG_MF_MaxPeakAct_Var':[variance_peak],'EMG_MF_MaxPeakAct_Skew':[skewness_peak],\n",
    "                                   'EMG_MF_MaxPeakAct_Kurt':[kurtis_peak],\n",
    "                                   'EMG_MF_MeanPeaksAct_Mean':[mean_act],'EMG_MF_MeanPeaksAct_Std':[standard_deviation_act],\n",
    "                                   'EMG_MF_MeanPeaksAct_Var':[variance_act],'EMG_MF_MeanPeaksAct_Skew':[skewness_act],\n",
    "                                   'EMG_MF_MeanPeaksAct_Kurt':[kurtis_act],\n",
    "                                   'EMG_MF_all_Amplitude_Mean':[mean_amp],'EMG_MF_all_Amplitude_Std':[standard_deviation_amp],\n",
    "                                   'EMG_MF_all_Amplitude_Var':[variance_amp],'EMG_MF_all_Amplitude_Skew':[skewness_amp],\n",
    "                                   'EMG_MF_all_Amplitude_Kurt':[kurtis_amp],\n",
    "                                   'EMG_MF_Area_Mean':[mean_amp],'EMG_MF_Area_Std':[standard_deviation_amp],\n",
    "                                   'EMG_MF_Area_Var':[variance_amp],'EMG_MF_Area_Skew':[skewness_amp],\n",
    "                                   'EMG_MF_Area_Kurt':[kurtis_amp]})\n",
    "        \n",
    "        \n",
    "        return features_emg\n",
    "    \n",
    "    elif label == 'EMG_TR':\n",
    "        mean_dur, standard_deviation_dur, variance_dur, skewness_dur, kurtis_dur = statistics (dic['TR_duration_activity'])\n",
    "        mean_peak, standard_deviation_peak, variance_peak, skewness_peak, kurtis_peak = statistics (dic['TR_peak_activity'])\n",
    "        mean_act, standard_deviation_act, variance_act, skewness_act, kurtis_act = statistics (dic['TR_mean_activity'])\n",
    "        mean_amp, standard_deviation_amp, variance_amp, skewness_amp, kurtis_amp = statistics (dic['TR_amplitude_activity'])\n",
    "        mean_area, standard_deviation_area, variance_area, skewness_area, kurtis_area = statistics (dic['TR_area_activity'])\n",
    "        \n",
    "        EMG_Activations_N=len(dic['TR_duration_activity'])\n",
    "                \n",
    "        features_emg=pd.DataFrame({'EMG_TR_Activations_N':[EMG_Activations_N],\n",
    "                                   'EMG_TR_Duration_Mean':[mean_dur],'EMG_TR_Duration_Std':[standard_deviation_dur],\n",
    "                                   'EMG_TR_Duration_Var':[variance_dur],'EMG_TR_Duration_Skew':[skewness_dur],\n",
    "                                   'EMG_TR_Duration_Kurt':[kurtis_dur],\n",
    "                                   'EMG_TR_MaxPeakAct_Mean':[mean_peak],'EMG_TR_MaxPeakAct_Std':[standard_deviation_peak],\n",
    "                                   'EMG_TR_MaxPeakAct_Var':[variance_peak],'EMG_TR_MaxPeakAct_Skew':[skewness_peak],\n",
    "                                   'EMG_TR_MaxPeakAct_Kurt':[kurtis_peak],\n",
    "                                   'EMG_TR_MeanPeaksAct_Mean':[mean_act],'EMG_TR_MeanPeaksAct_Std':[standard_deviation_act],\n",
    "                                   'EMG_TR_MeanPeaksAct_Var':[variance_act],'EMG_TR_MeanPeaksAct_Skew':[skewness_act],\n",
    "                                   'EMG_TR_MeanPeaksAct_Kurt':[kurtis_act],\n",
    "                                   'EMG_TR_all_Amplitude_Mean':[mean_amp],'EMG_TR_all_Amplitude_Std':[standard_deviation_amp],\n",
    "                                   'EMG_TR_all_Amplitude_Var':[variance_amp],'EMG_TR_all_Amplitude_Skew':[skewness_amp],\n",
    "                                   'EMG_TR_all_Amplitude_Kurt':[kurtis_amp],\n",
    "                                   'EMG_TR_Area_Mean':[mean_amp],'EMG_TR_Area_Std':[standard_deviation_amp],\n",
    "                                   'EMG_TR_Area_Var':[variance_amp],'EMG_TR_Area_Skew':[skewness_amp],\n",
    "                                   'EMG_TR_Area_Kurt':[kurtis_amp]})\n",
    "        \n",
    "        return features_emg\n",
    "    \n",
    "    elif label=='EDA':\n",
    "        symp=pd.DataFrame({'EDA_Symp':[dic['eda_symp']['EDA_Symp']],'EDA_SympN':[dic['eda_symp']['EDA_SympN']]})\n",
    "        \n",
    "        mean_ton, standard_deviation_ton, variance_ton, skewness_ton, kurtis_ton = statistics (dic['eda_tonic'])\n",
    "        mean_pha, standard_deviation_pha, variance_pha, skewness_pha, kurtis_pha = statistics (dic['eda_phasic'])\n",
    "        \n",
    "        mean_hei, standard_deviation_hei, variance_hei, skewness_hei, kurtis_hei = statistics (dic['scr_height'])\n",
    "        mean_amp, standard_deviation_amp, variance_amp, skewness_amp, kurtis_amp = statistics (dic['scr_amplitude'])\n",
    "        mean_rise, standard_deviation_rise, variance_rise, skewness_rise, kurtis_rise = statistics (dic['scr_risetime'])\n",
    "        mean_rec, standard_deviation_rec, variance_rec, skewness_rec, kurtis_rec = statistics (dic['scr_recoverytime'])\n",
    "        \n",
    "        SCR_Peaks_N=len(dic['scr_height'])\n",
    "        \n",
    "        statistics_eda=pd.DataFrame({'SCR_Peaks_N':[SCR_Peaks_N],\n",
    "                                     'EDA_Tonic_Mean':[mean_ton],'EDA_Tonic_Std':[standard_deviation_ton],\n",
    "                                     'EDA_Tonic_Var':[variance_ton],'EDA_Tonic_Skew':[skewness_ton],\n",
    "                                     'EDA_Tonic_Kurt':[kurtis_ton],\n",
    "                                     'EDA_Phasic_Mean':[mean_pha],'EDA_Phasic_Std':[standard_deviation_pha],\n",
    "                                     'EDA_Phasic_Var':[variance_pha],'EDA_Phasic_Skew':[skewness_pha],\n",
    "                                     'EDA_Phasic_Kurt':[kurtis_pha],\n",
    "                                     'SCR_Height_Mean':[mean_hei],'SCR_Height_Std':[standard_deviation_hei],\n",
    "                                     'SCR_Height_Var':[variance_hei],'SCR_Height_Skew':[skewness_hei],\n",
    "                                     'SCR_Height_Kurt':[kurtis_hei],\n",
    "                                     'SCR_Amplitude_Mean':[mean_amp],'SCR_Amplitude_Std':[standard_deviation_amp],\n",
    "                                     'SCR_Amplitude_Var':[variance_amp],'SCR_Amplitude_Skew':[skewness_amp],\n",
    "                                     'SCR_Amplitude_Kurt':[kurtis_amp],\n",
    "                                     'SCR_RiseTime_Mean':[mean_rise],'SCR_RiseTime_Std':[standard_deviation_rise],\n",
    "                                     'SCR_RiseTime_Var':[variance_rise],'SCR_RiseTime_Skew':[skewness_rise],\n",
    "                                     'SCR_RiseTime_Kurt':[kurtis_rise],\n",
    "                                     'SCR_RecoveryTime_Mean':[mean_rec],'SCR_RecoveryTime_Std':[standard_deviation_rec],\n",
    "                                     'SCR_RecoveryTime_Var':[variance_rec],'SCR_RecoveryTime_Skew':[skewness_rec],\n",
    "                                     'SCR_RecoveryTime_Kurt':[kurtis_rec]})\n",
    "        \n",
    "        features_eda=pd.concat([symp, statistics_eda],axis=1)\n",
    "        \n",
    "        return features_eda\n",
    "    \n",
    "    elif label == 'ECG':      \n",
    "        hrv_feat = nk.hrv(dic['ecg_Rpeaks'], sampling_rate=sampling_rate)\n",
    "        \n",
    "        mean_rate, standard_deviation_rate, variance_rate, skewness_rate, kurtis_rate = statistics (dic['ecg_rate'])\n",
    "        mean_dur, standard_deviation_dur, variance_dur, skewness_dur, kurtis_dur = statistics (dic['t_duration'])\n",
    "        \n",
    "        statistics_ecg=pd.DataFrame({'ECG_Rate_Mean':[mean_rate],'ECG_Rate_Std':[standard_deviation_rate],\n",
    "                                     'ECG_Rate_Var':[variance_rate],'ECG_Rate_Skew':[skewness_rate],\n",
    "                                     'ECG_Rate_Kurt':[kurtis_rate],\n",
    "                                     'ECG_Tduration_Mean':[mean_dur],'ECG_Tduration_Std':[standard_deviation_dur],\n",
    "                                     'ECG_Tduration_Var':[variance_dur],'ECG_Tduration_Skew':[skewness_dur],\n",
    "                                     'ECG_Tduration_Kurt':[kurtis_dur],})\n",
    "        \n",
    "        features_ecg=pd.concat([statistics_ecg, hrv_feat],axis=1)\n",
    "           \n",
    "        return features_ecg\n",
    "    "
   ]
  },
  {
   "cell_type": "markdown",
   "metadata": {},
   "source": [
    "### Statistics"
   ]
  },
  {
   "cell_type": "code",
   "execution_count": 18,
   "metadata": {},
   "outputs": [],
   "source": [
    "def statistics (a):\n",
    "    mean=np.nanmean(a)\n",
    "    standard_deviation=np.nanstd(a)\n",
    "    variance=np.nanvar(a)\n",
    "    skewness = (3*(mean-np.nanmedian(a)))/standard_deviation\n",
    "    #skewness=skew(a, nan_policy='omit')\n",
    "    kurtis=kurtosis(a, nan_policy='omit')\n",
    "    \n",
    "    return mean, standard_deviation, variance, skewness, kurtis"
   ]
  }
 ],
 "metadata": {
  "kernelspec": {
   "display_name": "Python 3 (ipykernel)",
   "language": "python",
   "name": "python3"
  },
  "language_info": {
   "codemirror_mode": {
    "name": "ipython",
    "version": 3
   },
   "file_extension": ".py",
   "mimetype": "text/x-python",
   "name": "python",
   "nbconvert_exporter": "python",
   "pygments_lexer": "ipython3",
   "version": "3.9.12"
  },
  "toc": {
   "base_numbering": 1,
   "nav_menu": {},
   "number_sections": true,
   "sideBar": true,
   "skip_h1_title": false,
   "title_cell": "Table of Contents",
   "title_sidebar": "Contents",
   "toc_cell": false,
   "toc_position": {
    "height": "calc(100% - 180px)",
    "left": "10px",
    "top": "150px",
    "width": "164.988px"
   },
   "toc_section_display": true,
   "toc_window_display": true
  },
  "varInspector": {
   "cols": {
    "lenName": 16,
    "lenType": 16,
    "lenVar": 40
   },
   "kernels_config": {
    "python": {
     "delete_cmd_postfix": "",
     "delete_cmd_prefix": "del ",
     "library": "var_list.py",
     "varRefreshCmd": "print(var_dic_list())"
    },
    "r": {
     "delete_cmd_postfix": ") ",
     "delete_cmd_prefix": "rm(",
     "library": "var_list.r",
     "varRefreshCmd": "cat(var_dic_list()) "
    }
   },
   "types_to_exclude": [
    "module",
    "function",
    "builtin_function_or_method",
    "instance",
    "_Feature"
   ],
   "window_display": false
  }
 },
 "nbformat": 4,
 "nbformat_minor": 2
}
